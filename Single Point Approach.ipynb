{
 "cells": [
  {
   "cell_type": "code",
   "execution_count": 1,
   "id": "ee151069",
   "metadata": {},
   "outputs": [
    {
     "data": {
      "text/html": [
       "        <script type=\"text/javascript\">\n",
       "        window.PlotlyConfig = {MathJaxConfig: 'local'};\n",
       "        if (window.MathJax && window.MathJax.Hub && window.MathJax.Hub.Config) {window.MathJax.Hub.Config({SVG: {font: \"STIX-Web\"}});}\n",
       "        if (typeof require !== 'undefined') {\n",
       "        require.undef(\"plotly\");\n",
       "        requirejs.config({\n",
       "            paths: {\n",
       "                'plotly': ['https://cdn.plot.ly/plotly-2.12.1.min']\n",
       "            }\n",
       "        });\n",
       "        require(['plotly'], function(Plotly) {\n",
       "            window._Plotly = Plotly;\n",
       "        });\n",
       "        }\n",
       "        </script>\n",
       "        "
      ]
     },
     "metadata": {},
     "output_type": "display_data"
    }
   ],
   "source": [
    "import pandas as pd\n",
    "%matplotlib inline\n",
    "import cufflinks as cf\n",
    "from statsmodels.tsa.stattools import acf, pacf, kpss\n",
    "from statsmodels.tsa.arima.model import ARIMA\n",
    "from sklearn.metrics import mean_squared_error, mean_absolute_error, mean_absolute_percentage_error\n",
    "\n",
    "from plotly import __version__\n",
    "from plotly.offline import download_plotlyjs, init_notebook_mode, plot, iplot\n",
    "\n",
    "cf.go_offline()"
   ]
  },
  {
   "cell_type": "code",
   "execution_count": 2,
   "id": "dfab4e89",
   "metadata": {},
   "outputs": [],
   "source": [
    "entire_df = pd.read_csv('target-hospital-admissions.csv')\n",
    "US_df = entire_df[entire_df[\"location_name\"] == \"US\"]\n",
    "US_df = US_df[['date','value']] # Since all the values are in the US, only need date and value columns\n",
    "US_df['date'] = pd.to_datetime(US_df['date']) # Ensuring that the strings in date column are DateTime objects\n",
    "US_df.set_index('date', inplace=True) # Eliminate the leading entry column by setting date as the index column"
   ]
  },
  {
   "cell_type": "code",
   "execution_count": 25,
   "id": "d5abc788",
   "metadata": {},
   "outputs": [],
   "source": [
    "training_df1 = US_df.loc[\"2023-11-11\": \"2023-12-02\"]\n",
    "p_values = [1, 2, 3, 4]\n",
    "d_values = [0, 1]\n",
    "q_values = [1, 2, 3, 4]"
   ]
  },
  {
   "cell_type": "code",
   "execution_count": 30,
   "id": "0c23ed79",
   "metadata": {},
   "outputs": [],
   "source": [
    "#First step\n",
    "order_df1 = pd.DataFrame(columns=[\"AIC\", \"VALUE\", \"DIFFERENCE\"])\n",
    "\n",
    "real_forecast = US_df[\"value\"].loc[\"2023-12-09\"]\n",
    "\n",
    "import warnings\n",
    "warnings.filterwarnings(\"ignore\")\n",
    "\n",
    "for p in p_values:\n",
    "    for d in d_values:\n",
    "        for q in q_values:\n",
    "            index = f\"({p},{d},{q})\"\n",
    "            \n",
    "            #Creating model based on looped p, d, or q\n",
    "            model = ARIMA(training_df1[\"value\"], order = (p, d, q))\n",
    "            fit = model.fit()\n",
    "            \n",
    "        \n",
    "            \n",
    "            #Forecasting for forecast MSE, MAE, MAPE\n",
    "            forecast = fit.forecast(steps = 1)\n",
    "            new_index = [\"2023-12-09\"]\n",
    "            forecast.index = new_index # Changing index and ensuring it is DateTime object\n",
    "            forecast.index = pd.to_datetime(forecast.index)\n",
    "            \n",
    "                        \n",
    "            data = {\"AIC\": fit.aic, \"VALUE\": forecast.values[0],\n",
    "            \"DIFFERENCE\": abs(forecast.values[0]-real_forecast)}\n",
    "            \n",
    "            order_df1.loc[index] = data"
   ]
  },
  {
   "cell_type": "code",
   "execution_count": 32,
   "id": "ce642bb4",
   "metadata": {},
   "outputs": [
    {
     "data": {
      "text/html": [
       "<div>\n",
       "<style scoped>\n",
       "    .dataframe tbody tr th:only-of-type {\n",
       "        vertical-align: middle;\n",
       "    }\n",
       "\n",
       "    .dataframe tbody tr th {\n",
       "        vertical-align: top;\n",
       "    }\n",
       "\n",
       "    .dataframe thead th {\n",
       "        text-align: right;\n",
       "    }\n",
       "</style>\n",
       "<table border=\"1\" class=\"dataframe\">\n",
       "  <thead>\n",
       "    <tr style=\"text-align: right;\">\n",
       "      <th></th>\n",
       "      <th>AIC</th>\n",
       "      <th>VALUE</th>\n",
       "      <th>DIFFERENCE</th>\n",
       "    </tr>\n",
       "  </thead>\n",
       "  <tbody>\n",
       "    <tr>\n",
       "      <th>(4,1,3)</th>\n",
       "      <td>62.118277</td>\n",
       "      <td>5608.736786</td>\n",
       "      <td>1569.263214</td>\n",
       "    </tr>\n",
       "    <tr>\n",
       "      <th>(4,1,2)</th>\n",
       "      <td>60.129687</td>\n",
       "      <td>5602.256237</td>\n",
       "      <td>1575.743763</td>\n",
       "    </tr>\n",
       "    <tr>\n",
       "      <th>(4,1,4)</th>\n",
       "      <td>64.141783</td>\n",
       "      <td>5589.031975</td>\n",
       "      <td>1588.968025</td>\n",
       "    </tr>\n",
       "    <tr>\n",
       "      <th>(3,1,2)</th>\n",
       "      <td>58.132086</td>\n",
       "      <td>5582.040564</td>\n",
       "      <td>1595.959436</td>\n",
       "    </tr>\n",
       "    <tr>\n",
       "      <th>(4,1,1)</th>\n",
       "      <td>58.143148</td>\n",
       "      <td>5578.919022</td>\n",
       "      <td>1599.080978</td>\n",
       "    </tr>\n",
       "    <tr>\n",
       "      <th>(3,1,3)</th>\n",
       "      <td>60.130842</td>\n",
       "      <td>5578.851454</td>\n",
       "      <td>1599.148546</td>\n",
       "    </tr>\n",
       "    <tr>\n",
       "      <th>(3,1,4)</th>\n",
       "      <td>62.156282</td>\n",
       "      <td>5574.266880</td>\n",
       "      <td>1603.733120</td>\n",
       "    </tr>\n",
       "    <tr>\n",
       "      <th>(3,1,1)</th>\n",
       "      <td>56.168810</td>\n",
       "      <td>5559.242662</td>\n",
       "      <td>1618.757338</td>\n",
       "    </tr>\n",
       "    <tr>\n",
       "      <th>(3,0,1)</th>\n",
       "      <td>67.549985</td>\n",
       "      <td>4428.166386</td>\n",
       "      <td>2749.833614</td>\n",
       "    </tr>\n",
       "    <tr>\n",
       "      <th>(4,0,1)</th>\n",
       "      <td>68.079020</td>\n",
       "      <td>4278.839966</td>\n",
       "      <td>2899.160034</td>\n",
       "    </tr>\n",
       "    <tr>\n",
       "      <th>(4,0,2)</th>\n",
       "      <td>73.917841</td>\n",
       "      <td>4154.428811</td>\n",
       "      <td>3023.571189</td>\n",
       "    </tr>\n",
       "    <tr>\n",
       "      <th>(3,0,2)</th>\n",
       "      <td>71.588911</td>\n",
       "      <td>4134.251716</td>\n",
       "      <td>3043.748284</td>\n",
       "    </tr>\n",
       "    <tr>\n",
       "      <th>(4,0,3)</th>\n",
       "      <td>76.279886</td>\n",
       "      <td>4050.194815</td>\n",
       "      <td>3127.805185</td>\n",
       "    </tr>\n",
       "    <tr>\n",
       "      <th>(1,1,3)</th>\n",
       "      <td>57.958663</td>\n",
       "      <td>3912.136573</td>\n",
       "      <td>3265.863427</td>\n",
       "    </tr>\n",
       "    <tr>\n",
       "      <th>(2,1,4)</th>\n",
       "      <td>62.019842</td>\n",
       "      <td>3772.996013</td>\n",
       "      <td>3405.003987</td>\n",
       "    </tr>\n",
       "    <tr>\n",
       "      <th>(1,0,3)</th>\n",
       "      <td>77.193070</td>\n",
       "      <td>3685.223412</td>\n",
       "      <td>3492.776588</td>\n",
       "    </tr>\n",
       "    <tr>\n",
       "      <th>(2,0,4)</th>\n",
       "      <td>78.021334</td>\n",
       "      <td>3637.558291</td>\n",
       "      <td>3540.441709</td>\n",
       "    </tr>\n",
       "    <tr>\n",
       "      <th>(1,0,2)</th>\n",
       "      <td>76.536316</td>\n",
       "      <td>3613.004638</td>\n",
       "      <td>3564.995362</td>\n",
       "    </tr>\n",
       "    <tr>\n",
       "      <th>(3,0,4)</th>\n",
       "      <td>80.886590</td>\n",
       "      <td>3594.219129</td>\n",
       "      <td>3583.780871</td>\n",
       "    </tr>\n",
       "    <tr>\n",
       "      <th>(2,0,3)</th>\n",
       "      <td>76.537069</td>\n",
       "      <td>3537.998560</td>\n",
       "      <td>3640.001440</td>\n",
       "    </tr>\n",
       "    <tr>\n",
       "      <th>(1,1,2)</th>\n",
       "      <td>57.660991</td>\n",
       "      <td>3536.486113</td>\n",
       "      <td>3641.513887</td>\n",
       "    </tr>\n",
       "    <tr>\n",
       "      <th>(1,0,4)</th>\n",
       "      <td>78.924232</td>\n",
       "      <td>3365.047415</td>\n",
       "      <td>3812.952585</td>\n",
       "    </tr>\n",
       "    <tr>\n",
       "      <th>(2,0,2)</th>\n",
       "      <td>75.137768</td>\n",
       "      <td>3269.550946</td>\n",
       "      <td>3908.449054</td>\n",
       "    </tr>\n",
       "    <tr>\n",
       "      <th>(3,0,3)</th>\n",
       "      <td>79.158450</td>\n",
       "      <td>3209.412114</td>\n",
       "      <td>3968.587886</td>\n",
       "    </tr>\n",
       "    <tr>\n",
       "      <th>(2,1,3)</th>\n",
       "      <td>71.666651</td>\n",
       "      <td>2997.297466</td>\n",
       "      <td>4180.702534</td>\n",
       "    </tr>\n",
       "    <tr>\n",
       "      <th>(2,1,2)</th>\n",
       "      <td>61.358088</td>\n",
       "      <td>2933.890727</td>\n",
       "      <td>4244.109273</td>\n",
       "    </tr>\n",
       "    <tr>\n",
       "      <th>(1,0,1)</th>\n",
       "      <td>74.545302</td>\n",
       "      <td>2841.808490</td>\n",
       "      <td>4336.191510</td>\n",
       "    </tr>\n",
       "    <tr>\n",
       "      <th>(2,0,1)</th>\n",
       "      <td>72.946344</td>\n",
       "      <td>2798.736885</td>\n",
       "      <td>4379.263115</td>\n",
       "    </tr>\n",
       "    <tr>\n",
       "      <th>(2,1,1)</th>\n",
       "      <td>58.564878</td>\n",
       "      <td>2778.607000</td>\n",
       "      <td>4399.393000</td>\n",
       "    </tr>\n",
       "    <tr>\n",
       "      <th>(1,1,1)</th>\n",
       "      <td>56.446298</td>\n",
       "      <td>2695.297010</td>\n",
       "      <td>4482.702990</td>\n",
       "    </tr>\n",
       "    <tr>\n",
       "      <th>(1,1,4)</th>\n",
       "      <td>67.963154</td>\n",
       "      <td>-380.166172</td>\n",
       "      <td>7558.166172</td>\n",
       "    </tr>\n",
       "    <tr>\n",
       "      <th>(4,0,4)</th>\n",
       "      <td>20.000000</td>\n",
       "      <td>21404.033126</td>\n",
       "      <td>14226.033126</td>\n",
       "    </tr>\n",
       "  </tbody>\n",
       "</table>\n",
       "</div>"
      ],
      "text/plain": [
       "               AIC         VALUE    DIFFERENCE\n",
       "(4,1,3)  62.118277   5608.736786   1569.263214\n",
       "(4,1,2)  60.129687   5602.256237   1575.743763\n",
       "(4,1,4)  64.141783   5589.031975   1588.968025\n",
       "(3,1,2)  58.132086   5582.040564   1595.959436\n",
       "(4,1,1)  58.143148   5578.919022   1599.080978\n",
       "(3,1,3)  60.130842   5578.851454   1599.148546\n",
       "(3,1,4)  62.156282   5574.266880   1603.733120\n",
       "(3,1,1)  56.168810   5559.242662   1618.757338\n",
       "(3,0,1)  67.549985   4428.166386   2749.833614\n",
       "(4,0,1)  68.079020   4278.839966   2899.160034\n",
       "(4,0,2)  73.917841   4154.428811   3023.571189\n",
       "(3,0,2)  71.588911   4134.251716   3043.748284\n",
       "(4,0,3)  76.279886   4050.194815   3127.805185\n",
       "(1,1,3)  57.958663   3912.136573   3265.863427\n",
       "(2,1,4)  62.019842   3772.996013   3405.003987\n",
       "(1,0,3)  77.193070   3685.223412   3492.776588\n",
       "(2,0,4)  78.021334   3637.558291   3540.441709\n",
       "(1,0,2)  76.536316   3613.004638   3564.995362\n",
       "(3,0,4)  80.886590   3594.219129   3583.780871\n",
       "(2,0,3)  76.537069   3537.998560   3640.001440\n",
       "(1,1,2)  57.660991   3536.486113   3641.513887\n",
       "(1,0,4)  78.924232   3365.047415   3812.952585\n",
       "(2,0,2)  75.137768   3269.550946   3908.449054\n",
       "(3,0,3)  79.158450   3209.412114   3968.587886\n",
       "(2,1,3)  71.666651   2997.297466   4180.702534\n",
       "(2,1,2)  61.358088   2933.890727   4244.109273\n",
       "(1,0,1)  74.545302   2841.808490   4336.191510\n",
       "(2,0,1)  72.946344   2798.736885   4379.263115\n",
       "(2,1,1)  58.564878   2778.607000   4399.393000\n",
       "(1,1,1)  56.446298   2695.297010   4482.702990\n",
       "(1,1,4)  67.963154   -380.166172   7558.166172\n",
       "(4,0,4)  20.000000  21404.033126  14226.033126"
      ]
     },
     "execution_count": 32,
     "metadata": {},
     "output_type": "execute_result"
    }
   ],
   "source": [
    "order_df1.sort_values(by=\"DIFFERENCE\")"
   ]
  },
  {
   "cell_type": "code",
   "execution_count": 55,
   "id": "73396a97",
   "metadata": {},
   "outputs": [],
   "source": [
    "#Second step\n",
    "training_df2 = training_df1.loc[\"2023-11-18\": \"2023-12-02\"]\n",
    "training_df2.loc[pd.to_datetime(\"2023-12-09\")] = {\"value\": 5608}\n",
    "training_df2.sort_index(inplace = True)\n",
    "\n",
    "\n",
    "\n",
    "order_df2 = pd.DataFrame(columns=[\"AIC\", \"VALUE\", \"DIFFERENCE\"])\n",
    "\n",
    "real_forecast = US_df[\"value\"].loc[\"2023-12-16\"]\n",
    "\n",
    "import warnings\n",
    "warnings.filterwarnings(\"ignore\")\n",
    "\n",
    "for p in p_values:\n",
    "    for d in d_values:\n",
    "        for q in q_values:\n",
    "            index = f\"({p},{d},{q})\"\n",
    "            \n",
    "            #Creating model based on looped p, d, or q\n",
    "            model = ARIMA(training_df2[\"value\"], order = (p, d, q))\n",
    "            fit = model.fit()\n",
    "            \n",
    "        \n",
    "            \n",
    "            #Forecasting for forecast MSE, MAE, MAPE\n",
    "            forecast = fit.forecast(steps = 1)\n",
    "            new_index = [\"2023-12-16\"]\n",
    "            forecast.index = new_index # Changing index and ensuring it is DateTime object\n",
    "            forecast.index = pd.to_datetime(forecast.index)\n",
    "            \n",
    "                        \n",
    "            data = {\"AIC\": fit.aic, \"VALUE\": forecast.values[0],\n",
    "            \"DIFFERENCE\": abs(forecast.values[0]-real_forecast)}\n",
    "            \n",
    "            order_df2.loc[index] = data"
   ]
  },
  {
   "cell_type": "code",
   "execution_count": 56,
   "id": "6f055f1b",
   "metadata": {},
   "outputs": [
    {
     "data": {
      "text/html": [
       "<div>\n",
       "<style scoped>\n",
       "    .dataframe tbody tr th:only-of-type {\n",
       "        vertical-align: middle;\n",
       "    }\n",
       "\n",
       "    .dataframe tbody tr th {\n",
       "        vertical-align: top;\n",
       "    }\n",
       "\n",
       "    .dataframe thead th {\n",
       "        text-align: right;\n",
       "    }\n",
       "</style>\n",
       "<table border=\"1\" class=\"dataframe\">\n",
       "  <thead>\n",
       "    <tr style=\"text-align: right;\">\n",
       "      <th></th>\n",
       "      <th>AIC</th>\n",
       "      <th>VALUE</th>\n",
       "      <th>DIFFERENCE</th>\n",
       "    </tr>\n",
       "  </thead>\n",
       "  <tbody>\n",
       "    <tr>\n",
       "      <th>(2,1,1)</th>\n",
       "      <td>54.459663</td>\n",
       "      <td>6442.802183</td>\n",
       "      <td>3443.197817</td>\n",
       "    </tr>\n",
       "    <tr>\n",
       "      <th>(2,1,2)</th>\n",
       "      <td>56.015769</td>\n",
       "      <td>6304.883039</td>\n",
       "      <td>3581.116961</td>\n",
       "    </tr>\n",
       "    <tr>\n",
       "      <th>(1,1,1)</th>\n",
       "      <td>54.610938</td>\n",
       "      <td>6249.288899</td>\n",
       "      <td>3636.711101</td>\n",
       "    </tr>\n",
       "    <tr>\n",
       "      <th>(2,1,3)</th>\n",
       "      <td>57.829235</td>\n",
       "      <td>6234.779228</td>\n",
       "      <td>3651.220772</td>\n",
       "    </tr>\n",
       "    <tr>\n",
       "      <th>(2,1,4)</th>\n",
       "      <td>59.882773</td>\n",
       "      <td>6164.745004</td>\n",
       "      <td>3721.254996</td>\n",
       "    </tr>\n",
       "    <tr>\n",
       "      <th>(1,1,4)</th>\n",
       "      <td>58.010729</td>\n",
       "      <td>6128.968949</td>\n",
       "      <td>3757.031051</td>\n",
       "    </tr>\n",
       "    <tr>\n",
       "      <th>(3,1,4)</th>\n",
       "      <td>61.794722</td>\n",
       "      <td>6000.726043</td>\n",
       "      <td>3885.273957</td>\n",
       "    </tr>\n",
       "    <tr>\n",
       "      <th>(3,1,3)</th>\n",
       "      <td>59.553785</td>\n",
       "      <td>5997.614491</td>\n",
       "      <td>3888.385509</td>\n",
       "    </tr>\n",
       "    <tr>\n",
       "      <th>(4,1,4)</th>\n",
       "      <td>63.558038</td>\n",
       "      <td>5973.899285</td>\n",
       "      <td>3912.100715</td>\n",
       "    </tr>\n",
       "    <tr>\n",
       "      <th>(1,1,3)</th>\n",
       "      <td>56.878213</td>\n",
       "      <td>5928.151645</td>\n",
       "      <td>3957.848355</td>\n",
       "    </tr>\n",
       "    <tr>\n",
       "      <th>(4,1,2)</th>\n",
       "      <td>59.330943</td>\n",
       "      <td>5905.202781</td>\n",
       "      <td>3980.797219</td>\n",
       "    </tr>\n",
       "    <tr>\n",
       "      <th>(3,1,2)</th>\n",
       "      <td>57.365183</td>\n",
       "      <td>5899.893839</td>\n",
       "      <td>3986.106161</td>\n",
       "    </tr>\n",
       "    <tr>\n",
       "      <th>(3,1,1)</th>\n",
       "      <td>55.309210</td>\n",
       "      <td>5892.127350</td>\n",
       "      <td>3993.872650</td>\n",
       "    </tr>\n",
       "    <tr>\n",
       "      <th>(4,1,1)</th>\n",
       "      <td>57.320576</td>\n",
       "      <td>5891.280091</td>\n",
       "      <td>3994.719909</td>\n",
       "    </tr>\n",
       "    <tr>\n",
       "      <th>(4,1,3)</th>\n",
       "      <td>61.326290</td>\n",
       "      <td>5888.223691</td>\n",
       "      <td>3997.776309</td>\n",
       "    </tr>\n",
       "    <tr>\n",
       "      <th>(1,1,2)</th>\n",
       "      <td>54.930668</td>\n",
       "      <td>5864.245551</td>\n",
       "      <td>4021.754449</td>\n",
       "    </tr>\n",
       "    <tr>\n",
       "      <th>(1,0,1)</th>\n",
       "      <td>72.266182</td>\n",
       "      <td>4855.070814</td>\n",
       "      <td>5030.929186</td>\n",
       "    </tr>\n",
       "    <tr>\n",
       "      <th>(1,0,2)</th>\n",
       "      <td>73.819698</td>\n",
       "      <td>4730.509749</td>\n",
       "      <td>5155.490251</td>\n",
       "    </tr>\n",
       "    <tr>\n",
       "      <th>(1,0,3)</th>\n",
       "      <td>74.612978</td>\n",
       "      <td>4575.443330</td>\n",
       "      <td>5310.556670</td>\n",
       "    </tr>\n",
       "    <tr>\n",
       "      <th>(1,0,4)</th>\n",
       "      <td>76.220270</td>\n",
       "      <td>4495.333531</td>\n",
       "      <td>5390.666469</td>\n",
       "    </tr>\n",
       "    <tr>\n",
       "      <th>(3,0,3)</th>\n",
       "      <td>71.419658</td>\n",
       "      <td>4071.140134</td>\n",
       "      <td>5814.859866</td>\n",
       "    </tr>\n",
       "    <tr>\n",
       "      <th>(4,0,1)</th>\n",
       "      <td>65.847339</td>\n",
       "      <td>4019.092182</td>\n",
       "      <td>5866.907818</td>\n",
       "    </tr>\n",
       "    <tr>\n",
       "      <th>(2,0,3)</th>\n",
       "      <td>68.305839</td>\n",
       "      <td>4016.500501</td>\n",
       "      <td>5869.499499</td>\n",
       "    </tr>\n",
       "    <tr>\n",
       "      <th>(3,0,1)</th>\n",
       "      <td>64.882691</td>\n",
       "      <td>4012.172367</td>\n",
       "      <td>5873.827633</td>\n",
       "    </tr>\n",
       "    <tr>\n",
       "      <th>(4,0,2)</th>\n",
       "      <td>70.499092</td>\n",
       "      <td>4009.252178</td>\n",
       "      <td>5876.747822</td>\n",
       "    </tr>\n",
       "    <tr>\n",
       "      <th>(4,0,3)</th>\n",
       "      <td>74.237473</td>\n",
       "      <td>4006.881292</td>\n",
       "      <td>5879.118708</td>\n",
       "    </tr>\n",
       "    <tr>\n",
       "      <th>(2,0,1)</th>\n",
       "      <td>62.097482</td>\n",
       "      <td>4006.508026</td>\n",
       "      <td>5879.491974</td>\n",
       "    </tr>\n",
       "    <tr>\n",
       "      <th>(2,0,2)</th>\n",
       "      <td>65.474992</td>\n",
       "      <td>4001.491056</td>\n",
       "      <td>5884.508944</td>\n",
       "    </tr>\n",
       "    <tr>\n",
       "      <th>(3,0,2)</th>\n",
       "      <td>68.056414</td>\n",
       "      <td>3994.882626</td>\n",
       "      <td>5891.117374</td>\n",
       "    </tr>\n",
       "    <tr>\n",
       "      <th>(4,0,4)</th>\n",
       "      <td>74.186110</td>\n",
       "      <td>3994.315378</td>\n",
       "      <td>5891.684622</td>\n",
       "    </tr>\n",
       "    <tr>\n",
       "      <th>(2,0,4)</th>\n",
       "      <td>70.647534</td>\n",
       "      <td>3973.108203</td>\n",
       "      <td>5912.891797</td>\n",
       "    </tr>\n",
       "    <tr>\n",
       "      <th>(3,0,4)</th>\n",
       "      <td>72.866314</td>\n",
       "      <td>3969.966748</td>\n",
       "      <td>5916.033252</td>\n",
       "    </tr>\n",
       "  </tbody>\n",
       "</table>\n",
       "</div>"
      ],
      "text/plain": [
       "               AIC        VALUE   DIFFERENCE\n",
       "(2,1,1)  54.459663  6442.802183  3443.197817\n",
       "(2,1,2)  56.015769  6304.883039  3581.116961\n",
       "(1,1,1)  54.610938  6249.288899  3636.711101\n",
       "(2,1,3)  57.829235  6234.779228  3651.220772\n",
       "(2,1,4)  59.882773  6164.745004  3721.254996\n",
       "(1,1,4)  58.010729  6128.968949  3757.031051\n",
       "(3,1,4)  61.794722  6000.726043  3885.273957\n",
       "(3,1,3)  59.553785  5997.614491  3888.385509\n",
       "(4,1,4)  63.558038  5973.899285  3912.100715\n",
       "(1,1,3)  56.878213  5928.151645  3957.848355\n",
       "(4,1,2)  59.330943  5905.202781  3980.797219\n",
       "(3,1,2)  57.365183  5899.893839  3986.106161\n",
       "(3,1,1)  55.309210  5892.127350  3993.872650\n",
       "(4,1,1)  57.320576  5891.280091  3994.719909\n",
       "(4,1,3)  61.326290  5888.223691  3997.776309\n",
       "(1,1,2)  54.930668  5864.245551  4021.754449\n",
       "(1,0,1)  72.266182  4855.070814  5030.929186\n",
       "(1,0,2)  73.819698  4730.509749  5155.490251\n",
       "(1,0,3)  74.612978  4575.443330  5310.556670\n",
       "(1,0,4)  76.220270  4495.333531  5390.666469\n",
       "(3,0,3)  71.419658  4071.140134  5814.859866\n",
       "(4,0,1)  65.847339  4019.092182  5866.907818\n",
       "(2,0,3)  68.305839  4016.500501  5869.499499\n",
       "(3,0,1)  64.882691  4012.172367  5873.827633\n",
       "(4,0,2)  70.499092  4009.252178  5876.747822\n",
       "(4,0,3)  74.237473  4006.881292  5879.118708\n",
       "(2,0,1)  62.097482  4006.508026  5879.491974\n",
       "(2,0,2)  65.474992  4001.491056  5884.508944\n",
       "(3,0,2)  68.056414  3994.882626  5891.117374\n",
       "(4,0,4)  74.186110  3994.315378  5891.684622\n",
       "(2,0,4)  70.647534  3973.108203  5912.891797\n",
       "(3,0,4)  72.866314  3969.966748  5916.033252"
      ]
     },
     "execution_count": 56,
     "metadata": {},
     "output_type": "execute_result"
    }
   ],
   "source": [
    "order_df2.sort_values(by=\"DIFFERENCE\")"
   ]
  },
  {
   "cell_type": "code",
   "execution_count": 51,
   "id": "778d7a0d",
   "metadata": {},
   "outputs": [],
   "source": [
    "#Third step\n",
    "training_df3 = training_df2.loc[\"2023-11-25\": \"2023-12-09\"]\n",
    "training_df3.loc[pd.to_datetime(\"2023-12-16\")] = {\"value\": 4770}\n",
    "\n",
    "\n",
    "\n",
    "\n",
    "order_df3 = pd.DataFrame(columns=[\"AIC\", \"VALUE\", \"DIFFERENCE\"])\n",
    "\n",
    "real_forecast = US_df[\"value\"].loc[\"2023-12-23\"]\n",
    "\n",
    "import warnings\n",
    "warnings.filterwarnings(\"ignore\")\n",
    "\n",
    "for p in p_values:\n",
    "    for d in d_values:\n",
    "        for q in q_values:\n",
    "            index = f\"({p},{d},{q})\"\n",
    "            \n",
    "            #Creating model based on looped p, d, or q\n",
    "            model = ARIMA(training_df3[\"value\"], order = (p, d, q))\n",
    "            fit = model.fit()\n",
    "            \n",
    "        \n",
    "            \n",
    "            #Forecasting for forecast MSE, MAE, MAPE\n",
    "            forecast = fit.forecast(steps = 1)\n",
    "            new_index = [\"2023-12-23\"]\n",
    "            forecast.index = new_index # Changing index and ensuring it is DateTime object\n",
    "            forecast.index = pd.to_datetime(forecast.index)\n",
    "            \n",
    "                        \n",
    "            data = {\"AIC\": fit.aic, \"VALUE\": forecast.values[0],\n",
    "            \"DIFFERENCE\": abs(forecast.values[0]-real_forecast)}\n",
    "            \n",
    "            order_df3.loc[index] = data"
   ]
  },
  {
   "cell_type": "code",
   "execution_count": 59,
   "id": "ab1208a2",
   "metadata": {},
   "outputs": [
    {
     "data": {
      "text/html": [
       "<div>\n",
       "<style scoped>\n",
       "    .dataframe tbody tr th:only-of-type {\n",
       "        vertical-align: middle;\n",
       "    }\n",
       "\n",
       "    .dataframe tbody tr th {\n",
       "        vertical-align: top;\n",
       "    }\n",
       "\n",
       "    .dataframe thead th {\n",
       "        text-align: right;\n",
       "    }\n",
       "</style>\n",
       "<table border=\"1\" class=\"dataframe\">\n",
       "  <thead>\n",
       "    <tr style=\"text-align: right;\">\n",
       "      <th></th>\n",
       "      <th>AIC</th>\n",
       "      <th>VALUE</th>\n",
       "      <th>DIFFERENCE</th>\n",
       "    </tr>\n",
       "  </thead>\n",
       "  <tbody>\n",
       "    <tr>\n",
       "      <th>(4,1,4)</th>\n",
       "      <td>61.516952</td>\n",
       "      <td>5632.571289</td>\n",
       "      <td>9501.428711</td>\n",
       "    </tr>\n",
       "    <tr>\n",
       "      <th>(4,1,3)</th>\n",
       "      <td>58.341933</td>\n",
       "      <td>5560.192294</td>\n",
       "      <td>9573.807706</td>\n",
       "    </tr>\n",
       "    <tr>\n",
       "      <th>(2,1,1)</th>\n",
       "      <td>50.344366</td>\n",
       "      <td>5559.220778</td>\n",
       "      <td>9574.779222</td>\n",
       "    </tr>\n",
       "    <tr>\n",
       "      <th>(3,1,4)</th>\n",
       "      <td>57.111451</td>\n",
       "      <td>5419.641546</td>\n",
       "      <td>9714.358454</td>\n",
       "    </tr>\n",
       "    <tr>\n",
       "      <th>(1,1,1)</th>\n",
       "      <td>48.172170</td>\n",
       "      <td>5361.486395</td>\n",
       "      <td>9772.513605</td>\n",
       "    </tr>\n",
       "    <tr>\n",
       "      <th>(2,1,3)</th>\n",
       "      <td>53.183423</td>\n",
       "      <td>5358.885046</td>\n",
       "      <td>9775.114954</td>\n",
       "    </tr>\n",
       "    <tr>\n",
       "      <th>(1,1,2)</th>\n",
       "      <td>49.194721</td>\n",
       "      <td>5357.947865</td>\n",
       "      <td>9776.052135</td>\n",
       "    </tr>\n",
       "    <tr>\n",
       "      <th>(3,1,3)</th>\n",
       "      <td>56.131199</td>\n",
       "      <td>5357.921797</td>\n",
       "      <td>9776.078203</td>\n",
       "    </tr>\n",
       "    <tr>\n",
       "      <th>(2,1,4)</th>\n",
       "      <td>55.143486</td>\n",
       "      <td>5324.648651</td>\n",
       "      <td>9809.351349</td>\n",
       "    </tr>\n",
       "    <tr>\n",
       "      <th>(1,1,4)</th>\n",
       "      <td>52.804327</td>\n",
       "      <td>5323.461598</td>\n",
       "      <td>9810.538402</td>\n",
       "    </tr>\n",
       "    <tr>\n",
       "      <th>(1,0,3)</th>\n",
       "      <td>66.721546</td>\n",
       "      <td>5294.214899</td>\n",
       "      <td>9839.785101</td>\n",
       "    </tr>\n",
       "    <tr>\n",
       "      <th>(3,0,2)</th>\n",
       "      <td>70.497357</td>\n",
       "      <td>5280.042196</td>\n",
       "      <td>9853.957804</td>\n",
       "    </tr>\n",
       "    <tr>\n",
       "      <th>(1,1,3)</th>\n",
       "      <td>54.895857</td>\n",
       "      <td>5262.371847</td>\n",
       "      <td>9871.628153</td>\n",
       "    </tr>\n",
       "    <tr>\n",
       "      <th>(4,0,3)</th>\n",
       "      <td>74.830107</td>\n",
       "      <td>5207.378808</td>\n",
       "      <td>9926.621192</td>\n",
       "    </tr>\n",
       "    <tr>\n",
       "      <th>(3,1,1)</th>\n",
       "      <td>50.086658</td>\n",
       "      <td>5175.249438</td>\n",
       "      <td>9958.750562</td>\n",
       "    </tr>\n",
       "    <tr>\n",
       "      <th>(4,1,1)</th>\n",
       "      <td>52.095610</td>\n",
       "      <td>5168.714671</td>\n",
       "      <td>9965.285329</td>\n",
       "    </tr>\n",
       "    <tr>\n",
       "      <th>(1,0,1)</th>\n",
       "      <td>62.636757</td>\n",
       "      <td>5152.819932</td>\n",
       "      <td>9981.180068</td>\n",
       "    </tr>\n",
       "    <tr>\n",
       "      <th>(1,0,4)</th>\n",
       "      <td>68.808240</td>\n",
       "      <td>5081.320472</td>\n",
       "      <td>10052.679528</td>\n",
       "    </tr>\n",
       "    <tr>\n",
       "      <th>(4,1,2)</th>\n",
       "      <td>55.166674</td>\n",
       "      <td>4999.593200</td>\n",
       "      <td>10134.406800</td>\n",
       "    </tr>\n",
       "    <tr>\n",
       "      <th>(1,0,2)</th>\n",
       "      <td>64.696031</td>\n",
       "      <td>4996.147669</td>\n",
       "      <td>10137.852331</td>\n",
       "    </tr>\n",
       "    <tr>\n",
       "      <th>(3,1,2)</th>\n",
       "      <td>52.636583</td>\n",
       "      <td>4894.792990</td>\n",
       "      <td>10239.207010</td>\n",
       "    </tr>\n",
       "    <tr>\n",
       "      <th>(2,0,3)</th>\n",
       "      <td>69.683678</td>\n",
       "      <td>4893.312352</td>\n",
       "      <td>10240.687648</td>\n",
       "    </tr>\n",
       "    <tr>\n",
       "      <th>(2,1,2)</th>\n",
       "      <td>49.789998</td>\n",
       "      <td>4881.019230</td>\n",
       "      <td>10252.980770</td>\n",
       "    </tr>\n",
       "    <tr>\n",
       "      <th>(3,0,4)</th>\n",
       "      <td>73.925484</td>\n",
       "      <td>4853.820140</td>\n",
       "      <td>10280.179860</td>\n",
       "    </tr>\n",
       "    <tr>\n",
       "      <th>(4,0,4)</th>\n",
       "      <td>75.724795</td>\n",
       "      <td>4848.151083</td>\n",
       "      <td>10285.848917</td>\n",
       "    </tr>\n",
       "    <tr>\n",
       "      <th>(3,0,3)</th>\n",
       "      <td>63.231534</td>\n",
       "      <td>4846.168002</td>\n",
       "      <td>10287.831998</td>\n",
       "    </tr>\n",
       "    <tr>\n",
       "      <th>(2,0,4)</th>\n",
       "      <td>71.662407</td>\n",
       "      <td>4843.607039</td>\n",
       "      <td>10290.392961</td>\n",
       "    </tr>\n",
       "    <tr>\n",
       "      <th>(4,0,2)</th>\n",
       "      <td>65.867260</td>\n",
       "      <td>4842.374550</td>\n",
       "      <td>10291.625450</td>\n",
       "    </tr>\n",
       "    <tr>\n",
       "      <th>(3,0,1)</th>\n",
       "      <td>59.003072</td>\n",
       "      <td>4841.678413</td>\n",
       "      <td>10292.321587</td>\n",
       "    </tr>\n",
       "    <tr>\n",
       "      <th>(4,0,1)</th>\n",
       "      <td>61.161189</td>\n",
       "      <td>4841.240591</td>\n",
       "      <td>10292.759409</td>\n",
       "    </tr>\n",
       "    <tr>\n",
       "      <th>(2,0,1)</th>\n",
       "      <td>50.598555</td>\n",
       "      <td>4839.242105</td>\n",
       "      <td>10294.757895</td>\n",
       "    </tr>\n",
       "    <tr>\n",
       "      <th>(2,0,2)</th>\n",
       "      <td>65.230749</td>\n",
       "      <td>4811.337650</td>\n",
       "      <td>10322.662350</td>\n",
       "    </tr>\n",
       "  </tbody>\n",
       "</table>\n",
       "</div>"
      ],
      "text/plain": [
       "               AIC        VALUE    DIFFERENCE\n",
       "(4,1,4)  61.516952  5632.571289   9501.428711\n",
       "(4,1,3)  58.341933  5560.192294   9573.807706\n",
       "(2,1,1)  50.344366  5559.220778   9574.779222\n",
       "(3,1,4)  57.111451  5419.641546   9714.358454\n",
       "(1,1,1)  48.172170  5361.486395   9772.513605\n",
       "(2,1,3)  53.183423  5358.885046   9775.114954\n",
       "(1,1,2)  49.194721  5357.947865   9776.052135\n",
       "(3,1,3)  56.131199  5357.921797   9776.078203\n",
       "(2,1,4)  55.143486  5324.648651   9809.351349\n",
       "(1,1,4)  52.804327  5323.461598   9810.538402\n",
       "(1,0,3)  66.721546  5294.214899   9839.785101\n",
       "(3,0,2)  70.497357  5280.042196   9853.957804\n",
       "(1,1,3)  54.895857  5262.371847   9871.628153\n",
       "(4,0,3)  74.830107  5207.378808   9926.621192\n",
       "(3,1,1)  50.086658  5175.249438   9958.750562\n",
       "(4,1,1)  52.095610  5168.714671   9965.285329\n",
       "(1,0,1)  62.636757  5152.819932   9981.180068\n",
       "(1,0,4)  68.808240  5081.320472  10052.679528\n",
       "(4,1,2)  55.166674  4999.593200  10134.406800\n",
       "(1,0,2)  64.696031  4996.147669  10137.852331\n",
       "(3,1,2)  52.636583  4894.792990  10239.207010\n",
       "(2,0,3)  69.683678  4893.312352  10240.687648\n",
       "(2,1,2)  49.789998  4881.019230  10252.980770\n",
       "(3,0,4)  73.925484  4853.820140  10280.179860\n",
       "(4,0,4)  75.724795  4848.151083  10285.848917\n",
       "(3,0,3)  63.231534  4846.168002  10287.831998\n",
       "(2,0,4)  71.662407  4843.607039  10290.392961\n",
       "(4,0,2)  65.867260  4842.374550  10291.625450\n",
       "(3,0,1)  59.003072  4841.678413  10292.321587\n",
       "(4,0,1)  61.161189  4841.240591  10292.759409\n",
       "(2,0,1)  50.598555  4839.242105  10294.757895\n",
       "(2,0,2)  65.230749  4811.337650  10322.662350"
      ]
     },
     "execution_count": 59,
     "metadata": {},
     "output_type": "execute_result"
    }
   ],
   "source": [
    "order_df3.sort_values(by = \"DIFFERENCE\")"
   ]
  },
  {
   "cell_type": "code",
   "execution_count": 60,
   "id": "1ef43640",
   "metadata": {},
   "outputs": [],
   "source": [
    "#Third step\n",
    "training_df4 = training_df3.loc[\"2023-12-02\": \"2023-12-16\"]\n",
    "training_df4.loc[pd.to_datetime(\"2023-12-23\")] = {\"value\": 5632}\n",
    "\n",
    "\n",
    "\n",
    "\n",
    "order_df4 = pd.DataFrame(columns=[\"AIC\", \"VALUE\", \"DIFFERENCE\"])\n",
    "\n",
    "real_forecast = US_df[\"value\"].loc[\"2023-12-30\"]\n",
    "\n",
    "import warnings\n",
    "warnings.filterwarnings(\"ignore\")\n",
    "\n",
    "for p in p_values:\n",
    "    for d in d_values:\n",
    "        for q in q_values:\n",
    "            index = f\"({p},{d},{q})\"\n",
    "            \n",
    "            #Creating model based on looped p, d, or q\n",
    "            model = ARIMA(training_df4[\"value\"], order = (p, d, q))\n",
    "            fit = model.fit()\n",
    "            \n",
    "        \n",
    "            \n",
    "            #Forecasting for forecast MSE, MAE, MAPE\n",
    "            forecast = fit.forecast(steps = 1)\n",
    "            new_index = [\"2023-12-30\"]\n",
    "            forecast.index = new_index # Changing index and ensuring it is DateTime object\n",
    "            forecast.index = pd.to_datetime(forecast.index)\n",
    "            \n",
    "                        \n",
    "            data = {\"AIC\": fit.aic, \"VALUE\": forecast.values[0],\n",
    "            \"DIFFERENCE\": abs(forecast.values[0]-real_forecast)}\n",
    "            \n",
    "            order_df4.loc[index] = data"
   ]
  },
  {
   "cell_type": "code",
   "execution_count": 61,
   "id": "1a96ae9a",
   "metadata": {},
   "outputs": [
    {
     "data": {
      "text/html": [
       "<div>\n",
       "<style scoped>\n",
       "    .dataframe tbody tr th:only-of-type {\n",
       "        vertical-align: middle;\n",
       "    }\n",
       "\n",
       "    .dataframe tbody tr th {\n",
       "        vertical-align: top;\n",
       "    }\n",
       "\n",
       "    .dataframe thead th {\n",
       "        text-align: right;\n",
       "    }\n",
       "</style>\n",
       "<table border=\"1\" class=\"dataframe\">\n",
       "  <thead>\n",
       "    <tr style=\"text-align: right;\">\n",
       "      <th></th>\n",
       "      <th>AIC</th>\n",
       "      <th>VALUE</th>\n",
       "      <th>DIFFERENCE</th>\n",
       "    </tr>\n",
       "  </thead>\n",
       "  <tbody>\n",
       "    <tr>\n",
       "      <th>(3,1,3)</th>\n",
       "      <td>57.454676</td>\n",
       "      <td>6089.597418</td>\n",
       "      <td>14940.402582</td>\n",
       "    </tr>\n",
       "    <tr>\n",
       "      <th>(3,1,4)</th>\n",
       "      <td>59.141816</td>\n",
       "      <td>5862.442637</td>\n",
       "      <td>15167.557363</td>\n",
       "    </tr>\n",
       "    <tr>\n",
       "      <th>(1,1,4)</th>\n",
       "      <td>55.345671</td>\n",
       "      <td>5791.224259</td>\n",
       "      <td>15238.775741</td>\n",
       "    </tr>\n",
       "    <tr>\n",
       "      <th>(3,0,2)</th>\n",
       "      <td>63.281431</td>\n",
       "      <td>5750.039627</td>\n",
       "      <td>15279.960373</td>\n",
       "    </tr>\n",
       "    <tr>\n",
       "      <th>(4,1,1)</th>\n",
       "      <td>47.479606</td>\n",
       "      <td>5742.701739</td>\n",
       "      <td>15287.298261</td>\n",
       "    </tr>\n",
       "    <tr>\n",
       "      <th>(2,0,1)</th>\n",
       "      <td>53.271571</td>\n",
       "      <td>5736.636387</td>\n",
       "      <td>15293.363613</td>\n",
       "    </tr>\n",
       "    <tr>\n",
       "      <th>(3,1,1)</th>\n",
       "      <td>42.355167</td>\n",
       "      <td>5733.034046</td>\n",
       "      <td>15296.965954</td>\n",
       "    </tr>\n",
       "    <tr>\n",
       "      <th>(2,1,1)</th>\n",
       "      <td>43.259082</td>\n",
       "      <td>5731.374512</td>\n",
       "      <td>15298.625488</td>\n",
       "    </tr>\n",
       "    <tr>\n",
       "      <th>(3,0,1)</th>\n",
       "      <td>62.738999</td>\n",
       "      <td>5730.216860</td>\n",
       "      <td>15299.783140</td>\n",
       "    </tr>\n",
       "    <tr>\n",
       "      <th>(4,1,2)</th>\n",
       "      <td>48.776079</td>\n",
       "      <td>5729.593502</td>\n",
       "      <td>15300.406498</td>\n",
       "    </tr>\n",
       "    <tr>\n",
       "      <th>(4,0,1)</th>\n",
       "      <td>60.503762</td>\n",
       "      <td>5728.244104</td>\n",
       "      <td>15301.755896</td>\n",
       "    </tr>\n",
       "    <tr>\n",
       "      <th>(2,1,3)</th>\n",
       "      <td>48.828273</td>\n",
       "      <td>5728.183872</td>\n",
       "      <td>15301.816128</td>\n",
       "    </tr>\n",
       "    <tr>\n",
       "      <th>(2,1,2)</th>\n",
       "      <td>47.357161</td>\n",
       "      <td>5725.233337</td>\n",
       "      <td>15304.766663</td>\n",
       "    </tr>\n",
       "    <tr>\n",
       "      <th>(3,1,2)</th>\n",
       "      <td>50.631896</td>\n",
       "      <td>5705.071053</td>\n",
       "      <td>15324.928947</td>\n",
       "    </tr>\n",
       "    <tr>\n",
       "      <th>(4,1,3)</th>\n",
       "      <td>54.604274</td>\n",
       "      <td>5699.488520</td>\n",
       "      <td>15330.511480</td>\n",
       "    </tr>\n",
       "    <tr>\n",
       "      <th>(4,0,4)</th>\n",
       "      <td>74.825803</td>\n",
       "      <td>5697.936683</td>\n",
       "      <td>15332.063317</td>\n",
       "    </tr>\n",
       "    <tr>\n",
       "      <th>(4,1,4)</th>\n",
       "      <td>61.370389</td>\n",
       "      <td>5696.739738</td>\n",
       "      <td>15333.260262</td>\n",
       "    </tr>\n",
       "    <tr>\n",
       "      <th>(2,1,4)</th>\n",
       "      <td>54.143453</td>\n",
       "      <td>5688.259563</td>\n",
       "      <td>15341.740437</td>\n",
       "    </tr>\n",
       "    <tr>\n",
       "      <th>(3,0,4)</th>\n",
       "      <td>70.211823</td>\n",
       "      <td>5686.754706</td>\n",
       "      <td>15343.245294</td>\n",
       "    </tr>\n",
       "    <tr>\n",
       "      <th>(4,0,2)</th>\n",
       "      <td>66.254404</td>\n",
       "      <td>5686.008803</td>\n",
       "      <td>15343.991197</td>\n",
       "    </tr>\n",
       "    <tr>\n",
       "      <th>(2,0,3)</th>\n",
       "      <td>66.092454</td>\n",
       "      <td>5681.085502</td>\n",
       "      <td>15348.914498</td>\n",
       "    </tr>\n",
       "    <tr>\n",
       "      <th>(2,0,4)</th>\n",
       "      <td>69.579900</td>\n",
       "      <td>5652.717706</td>\n",
       "      <td>15377.282294</td>\n",
       "    </tr>\n",
       "    <tr>\n",
       "      <th>(2,0,2)</th>\n",
       "      <td>66.621622</td>\n",
       "      <td>5642.922116</td>\n",
       "      <td>15387.077884</td>\n",
       "    </tr>\n",
       "    <tr>\n",
       "      <th>(1,0,4)</th>\n",
       "      <td>70.201876</td>\n",
       "      <td>5634.172605</td>\n",
       "      <td>15395.827395</td>\n",
       "    </tr>\n",
       "    <tr>\n",
       "      <th>(3,0,3)</th>\n",
       "      <td>70.857512</td>\n",
       "      <td>5610.368210</td>\n",
       "      <td>15419.631790</td>\n",
       "    </tr>\n",
       "    <tr>\n",
       "      <th>(4,0,3)</th>\n",
       "      <td>72.559697</td>\n",
       "      <td>5601.473726</td>\n",
       "      <td>15428.526274</td>\n",
       "    </tr>\n",
       "    <tr>\n",
       "      <th>(1,0,3)</th>\n",
       "      <td>67.854576</td>\n",
       "      <td>5551.049931</td>\n",
       "      <td>15478.950069</td>\n",
       "    </tr>\n",
       "    <tr>\n",
       "      <th>(1,0,2)</th>\n",
       "      <td>67.013183</td>\n",
       "      <td>5510.080174</td>\n",
       "      <td>15519.919826</td>\n",
       "    </tr>\n",
       "    <tr>\n",
       "      <th>(1,1,3)</th>\n",
       "      <td>53.256463</td>\n",
       "      <td>5484.121479</td>\n",
       "      <td>15545.878521</td>\n",
       "    </tr>\n",
       "    <tr>\n",
       "      <th>(1,1,2)</th>\n",
       "      <td>52.757831</td>\n",
       "      <td>5417.504458</td>\n",
       "      <td>15612.495542</td>\n",
       "    </tr>\n",
       "    <tr>\n",
       "      <th>(1,0,1)</th>\n",
       "      <td>65.358651</td>\n",
       "      <td>5397.813393</td>\n",
       "      <td>15632.186607</td>\n",
       "    </tr>\n",
       "    <tr>\n",
       "      <th>(1,1,1)</th>\n",
       "      <td>52.019129</td>\n",
       "      <td>5271.642389</td>\n",
       "      <td>15758.357611</td>\n",
       "    </tr>\n",
       "  </tbody>\n",
       "</table>\n",
       "</div>"
      ],
      "text/plain": [
       "               AIC        VALUE    DIFFERENCE\n",
       "(3,1,3)  57.454676  6089.597418  14940.402582\n",
       "(3,1,4)  59.141816  5862.442637  15167.557363\n",
       "(1,1,4)  55.345671  5791.224259  15238.775741\n",
       "(3,0,2)  63.281431  5750.039627  15279.960373\n",
       "(4,1,1)  47.479606  5742.701739  15287.298261\n",
       "(2,0,1)  53.271571  5736.636387  15293.363613\n",
       "(3,1,1)  42.355167  5733.034046  15296.965954\n",
       "(2,1,1)  43.259082  5731.374512  15298.625488\n",
       "(3,0,1)  62.738999  5730.216860  15299.783140\n",
       "(4,1,2)  48.776079  5729.593502  15300.406498\n",
       "(4,0,1)  60.503762  5728.244104  15301.755896\n",
       "(2,1,3)  48.828273  5728.183872  15301.816128\n",
       "(2,1,2)  47.357161  5725.233337  15304.766663\n",
       "(3,1,2)  50.631896  5705.071053  15324.928947\n",
       "(4,1,3)  54.604274  5699.488520  15330.511480\n",
       "(4,0,4)  74.825803  5697.936683  15332.063317\n",
       "(4,1,4)  61.370389  5696.739738  15333.260262\n",
       "(2,1,4)  54.143453  5688.259563  15341.740437\n",
       "(3,0,4)  70.211823  5686.754706  15343.245294\n",
       "(4,0,2)  66.254404  5686.008803  15343.991197\n",
       "(2,0,3)  66.092454  5681.085502  15348.914498\n",
       "(2,0,4)  69.579900  5652.717706  15377.282294\n",
       "(2,0,2)  66.621622  5642.922116  15387.077884\n",
       "(1,0,4)  70.201876  5634.172605  15395.827395\n",
       "(3,0,3)  70.857512  5610.368210  15419.631790\n",
       "(4,0,3)  72.559697  5601.473726  15428.526274\n",
       "(1,0,3)  67.854576  5551.049931  15478.950069\n",
       "(1,0,2)  67.013183  5510.080174  15519.919826\n",
       "(1,1,3)  53.256463  5484.121479  15545.878521\n",
       "(1,1,2)  52.757831  5417.504458  15612.495542\n",
       "(1,0,1)  65.358651  5397.813393  15632.186607\n",
       "(1,1,1)  52.019129  5271.642389  15758.357611"
      ]
     },
     "execution_count": 61,
     "metadata": {},
     "output_type": "execute_result"
    }
   ],
   "source": [
    "order_df4.sort_values(by = \"DIFFERENCE\")"
   ]
  },
  {
   "cell_type": "code",
   "execution_count": 62,
   "id": "b56d093a",
   "metadata": {},
   "outputs": [
    {
     "data": {
      "text/html": [
       "<div>\n",
       "<style scoped>\n",
       "    .dataframe tbody tr th:only-of-type {\n",
       "        vertical-align: middle;\n",
       "    }\n",
       "\n",
       "    .dataframe tbody tr th {\n",
       "        vertical-align: top;\n",
       "    }\n",
       "\n",
       "    .dataframe thead th {\n",
       "        text-align: right;\n",
       "    }\n",
       "</style>\n",
       "<table border=\"1\" class=\"dataframe\">\n",
       "  <thead>\n",
       "    <tr style=\"text-align: right;\">\n",
       "      <th></th>\n",
       "      <th>Training Data</th>\n",
       "      <th>Real Data</th>\n",
       "      <th>ARIMA Prediction</th>\n",
       "    </tr>\n",
       "  </thead>\n",
       "  <tbody>\n",
       "    <tr>\n",
       "      <th>2023-11-11</th>\n",
       "      <td>2695.0</td>\n",
       "      <td>NaN</td>\n",
       "      <td>NaN</td>\n",
       "    </tr>\n",
       "    <tr>\n",
       "      <th>2023-11-18</th>\n",
       "      <td>3422.0</td>\n",
       "      <td>NaN</td>\n",
       "      <td>NaN</td>\n",
       "    </tr>\n",
       "    <tr>\n",
       "      <th>2023-11-25</th>\n",
       "      <td>4240.0</td>\n",
       "      <td>NaN</td>\n",
       "      <td>NaN</td>\n",
       "    </tr>\n",
       "    <tr>\n",
       "      <th>2023-12-02</th>\n",
       "      <td>5752.0</td>\n",
       "      <td>NaN</td>\n",
       "      <td>NaN</td>\n",
       "    </tr>\n",
       "    <tr>\n",
       "      <th>2023-12-09</th>\n",
       "      <td>NaN</td>\n",
       "      <td>7178.0</td>\n",
       "      <td>5608.736786</td>\n",
       "    </tr>\n",
       "    <tr>\n",
       "      <th>2023-12-16</th>\n",
       "      <td>NaN</td>\n",
       "      <td>9886.0</td>\n",
       "      <td>6442.802183</td>\n",
       "    </tr>\n",
       "    <tr>\n",
       "      <th>2023-12-23</th>\n",
       "      <td>NaN</td>\n",
       "      <td>15134.0</td>\n",
       "      <td>5632.571289</td>\n",
       "    </tr>\n",
       "    <tr>\n",
       "      <th>2023-12-30</th>\n",
       "      <td>NaN</td>\n",
       "      <td>21030.0</td>\n",
       "      <td>6089.597418</td>\n",
       "    </tr>\n",
       "  </tbody>\n",
       "</table>\n",
       "</div>"
      ],
      "text/plain": [
       "            Training Data  Real Data  ARIMA Prediction\n",
       "2023-11-11         2695.0        NaN               NaN\n",
       "2023-11-18         3422.0        NaN               NaN\n",
       "2023-11-25         4240.0        NaN               NaN\n",
       "2023-12-02         5752.0        NaN               NaN\n",
       "2023-12-09            NaN     7178.0       5608.736786\n",
       "2023-12-16            NaN     9886.0       6442.802183\n",
       "2023-12-23            NaN    15134.0       5632.571289\n",
       "2023-12-30            NaN    21030.0       6089.597418"
      ]
     },
     "execution_count": 62,
     "metadata": {},
     "output_type": "execute_result"
    }
   ],
   "source": [
    "forecast = pd.Series(data = [5608.736786, 6442.802183, 5632.571289, 6089.597418], index=pd.to_datetime([\"2023-12-09\", \"2023-12-16\", \"2023-12-23\", \"2023-12-30\"]))\n",
    "\n",
    "\n",
    "\n",
    "arima_df = pd.DataFrame(index = training_df.index)\n",
    "new_index = arima_df.index.append(forecast.index)\n",
    "arima_df = arima_df.reindex(new_index)\n",
    "arima_df[\"Training Data\"] = training_df.iloc[:, 0]\n",
    "\n",
    "arima_df[\"Real Data\"] = US_df.loc[forecast.index]\n",
    "arima_df[\"ARIMA Prediction\"] = forecast\n",
    "arima_df.sort_index(inplace=True)\n",
    "arima_df"
   ]
  },
  {
   "cell_type": "code",
   "execution_count": 65,
   "id": "9eb926f7",
   "metadata": {},
   "outputs": [
    {
     "data": {
      "application/vnd.plotly.v1+json": {
       "config": {
        "linkText": "Export to plot.ly",
        "plotlyServerURL": "https://plot.ly",
        "showLink": true
       },
       "data": [
        {
         "line": {
          "color": "rgba(255, 153, 51, 1.0)",
          "dash": "solid",
          "shape": "linear",
          "width": 1.3
         },
         "mode": "lines",
         "name": "Training Data",
         "text": "",
         "type": "scatter",
         "x": [
          "2023-11-11",
          "2023-11-18",
          "2023-11-25",
          "2023-12-02",
          "2023-12-09",
          "2023-12-16",
          "2023-12-23",
          "2023-12-30"
         ],
         "y": [
          2695,
          3422,
          4240,
          5752,
          "",
          "",
          "",
          ""
         ]
        },
        {
         "line": {
          "color": "rgba(55, 128, 191, 1.0)",
          "dash": "solid",
          "shape": "linear",
          "width": 1.3
         },
         "mode": "lines",
         "name": "Real Data",
         "text": "",
         "type": "scatter",
         "x": [
          "2023-11-11",
          "2023-11-18",
          "2023-11-25",
          "2023-12-02",
          "2023-12-09",
          "2023-12-16",
          "2023-12-23",
          "2023-12-30"
         ],
         "y": [
          "",
          "",
          "",
          "",
          7178,
          9886,
          15134,
          21030
         ]
        },
        {
         "line": {
          "color": "rgba(50, 171, 96, 1.0)",
          "dash": "solid",
          "shape": "linear",
          "width": 1.3
         },
         "mode": "lines",
         "name": "ARIMA Prediction",
         "text": "",
         "type": "scatter",
         "x": [
          "2023-11-11",
          "2023-11-18",
          "2023-11-25",
          "2023-12-02",
          "2023-12-09",
          "2023-12-16",
          "2023-12-23",
          "2023-12-30"
         ],
         "y": [
          "",
          "",
          "",
          "",
          5608.736786,
          6442.802183,
          5632.571289,
          6089.597418
         ]
        }
       ],
       "layout": {
        "legend": {
         "bgcolor": "#F5F6F9",
         "font": {
          "color": "#4D5663"
         }
        },
        "paper_bgcolor": "#F5F6F9",
        "plot_bgcolor": "#F5F6F9",
        "template": {
         "data": {
          "bar": [
           {
            "error_x": {
             "color": "#2a3f5f"
            },
            "error_y": {
             "color": "#2a3f5f"
            },
            "marker": {
             "line": {
              "color": "#E5ECF6",
              "width": 0.5
             },
             "pattern": {
              "fillmode": "overlay",
              "size": 10,
              "solidity": 0.2
             }
            },
            "type": "bar"
           }
          ],
          "barpolar": [
           {
            "marker": {
             "line": {
              "color": "#E5ECF6",
              "width": 0.5
             },
             "pattern": {
              "fillmode": "overlay",
              "size": 10,
              "solidity": 0.2
             }
            },
            "type": "barpolar"
           }
          ],
          "carpet": [
           {
            "aaxis": {
             "endlinecolor": "#2a3f5f",
             "gridcolor": "white",
             "linecolor": "white",
             "minorgridcolor": "white",
             "startlinecolor": "#2a3f5f"
            },
            "baxis": {
             "endlinecolor": "#2a3f5f",
             "gridcolor": "white",
             "linecolor": "white",
             "minorgridcolor": "white",
             "startlinecolor": "#2a3f5f"
            },
            "type": "carpet"
           }
          ],
          "choropleth": [
           {
            "colorbar": {
             "outlinewidth": 0,
             "ticks": ""
            },
            "type": "choropleth"
           }
          ],
          "contour": [
           {
            "colorbar": {
             "outlinewidth": 0,
             "ticks": ""
            },
            "colorscale": [
             [
              0,
              "#0d0887"
             ],
             [
              0.1111111111111111,
              "#46039f"
             ],
             [
              0.2222222222222222,
              "#7201a8"
             ],
             [
              0.3333333333333333,
              "#9c179e"
             ],
             [
              0.4444444444444444,
              "#bd3786"
             ],
             [
              0.5555555555555556,
              "#d8576b"
             ],
             [
              0.6666666666666666,
              "#ed7953"
             ],
             [
              0.7777777777777778,
              "#fb9f3a"
             ],
             [
              0.8888888888888888,
              "#fdca26"
             ],
             [
              1,
              "#f0f921"
             ]
            ],
            "type": "contour"
           }
          ],
          "contourcarpet": [
           {
            "colorbar": {
             "outlinewidth": 0,
             "ticks": ""
            },
            "type": "contourcarpet"
           }
          ],
          "heatmap": [
           {
            "colorbar": {
             "outlinewidth": 0,
             "ticks": ""
            },
            "colorscale": [
             [
              0,
              "#0d0887"
             ],
             [
              0.1111111111111111,
              "#46039f"
             ],
             [
              0.2222222222222222,
              "#7201a8"
             ],
             [
              0.3333333333333333,
              "#9c179e"
             ],
             [
              0.4444444444444444,
              "#bd3786"
             ],
             [
              0.5555555555555556,
              "#d8576b"
             ],
             [
              0.6666666666666666,
              "#ed7953"
             ],
             [
              0.7777777777777778,
              "#fb9f3a"
             ],
             [
              0.8888888888888888,
              "#fdca26"
             ],
             [
              1,
              "#f0f921"
             ]
            ],
            "type": "heatmap"
           }
          ],
          "heatmapgl": [
           {
            "colorbar": {
             "outlinewidth": 0,
             "ticks": ""
            },
            "colorscale": [
             [
              0,
              "#0d0887"
             ],
             [
              0.1111111111111111,
              "#46039f"
             ],
             [
              0.2222222222222222,
              "#7201a8"
             ],
             [
              0.3333333333333333,
              "#9c179e"
             ],
             [
              0.4444444444444444,
              "#bd3786"
             ],
             [
              0.5555555555555556,
              "#d8576b"
             ],
             [
              0.6666666666666666,
              "#ed7953"
             ],
             [
              0.7777777777777778,
              "#fb9f3a"
             ],
             [
              0.8888888888888888,
              "#fdca26"
             ],
             [
              1,
              "#f0f921"
             ]
            ],
            "type": "heatmapgl"
           }
          ],
          "histogram": [
           {
            "marker": {
             "pattern": {
              "fillmode": "overlay",
              "size": 10,
              "solidity": 0.2
             }
            },
            "type": "histogram"
           }
          ],
          "histogram2d": [
           {
            "colorbar": {
             "outlinewidth": 0,
             "ticks": ""
            },
            "colorscale": [
             [
              0,
              "#0d0887"
             ],
             [
              0.1111111111111111,
              "#46039f"
             ],
             [
              0.2222222222222222,
              "#7201a8"
             ],
             [
              0.3333333333333333,
              "#9c179e"
             ],
             [
              0.4444444444444444,
              "#bd3786"
             ],
             [
              0.5555555555555556,
              "#d8576b"
             ],
             [
              0.6666666666666666,
              "#ed7953"
             ],
             [
              0.7777777777777778,
              "#fb9f3a"
             ],
             [
              0.8888888888888888,
              "#fdca26"
             ],
             [
              1,
              "#f0f921"
             ]
            ],
            "type": "histogram2d"
           }
          ],
          "histogram2dcontour": [
           {
            "colorbar": {
             "outlinewidth": 0,
             "ticks": ""
            },
            "colorscale": [
             [
              0,
              "#0d0887"
             ],
             [
              0.1111111111111111,
              "#46039f"
             ],
             [
              0.2222222222222222,
              "#7201a8"
             ],
             [
              0.3333333333333333,
              "#9c179e"
             ],
             [
              0.4444444444444444,
              "#bd3786"
             ],
             [
              0.5555555555555556,
              "#d8576b"
             ],
             [
              0.6666666666666666,
              "#ed7953"
             ],
             [
              0.7777777777777778,
              "#fb9f3a"
             ],
             [
              0.8888888888888888,
              "#fdca26"
             ],
             [
              1,
              "#f0f921"
             ]
            ],
            "type": "histogram2dcontour"
           }
          ],
          "mesh3d": [
           {
            "colorbar": {
             "outlinewidth": 0,
             "ticks": ""
            },
            "type": "mesh3d"
           }
          ],
          "parcoords": [
           {
            "line": {
             "colorbar": {
              "outlinewidth": 0,
              "ticks": ""
             }
            },
            "type": "parcoords"
           }
          ],
          "pie": [
           {
            "automargin": true,
            "type": "pie"
           }
          ],
          "scatter": [
           {
            "fillpattern": {
             "fillmode": "overlay",
             "size": 10,
             "solidity": 0.2
            },
            "type": "scatter"
           }
          ],
          "scatter3d": [
           {
            "line": {
             "colorbar": {
              "outlinewidth": 0,
              "ticks": ""
             }
            },
            "marker": {
             "colorbar": {
              "outlinewidth": 0,
              "ticks": ""
             }
            },
            "type": "scatter3d"
           }
          ],
          "scattercarpet": [
           {
            "marker": {
             "colorbar": {
              "outlinewidth": 0,
              "ticks": ""
             }
            },
            "type": "scattercarpet"
           }
          ],
          "scattergeo": [
           {
            "marker": {
             "colorbar": {
              "outlinewidth": 0,
              "ticks": ""
             }
            },
            "type": "scattergeo"
           }
          ],
          "scattergl": [
           {
            "marker": {
             "colorbar": {
              "outlinewidth": 0,
              "ticks": ""
             }
            },
            "type": "scattergl"
           }
          ],
          "scattermapbox": [
           {
            "marker": {
             "colorbar": {
              "outlinewidth": 0,
              "ticks": ""
             }
            },
            "type": "scattermapbox"
           }
          ],
          "scatterpolar": [
           {
            "marker": {
             "colorbar": {
              "outlinewidth": 0,
              "ticks": ""
             }
            },
            "type": "scatterpolar"
           }
          ],
          "scatterpolargl": [
           {
            "marker": {
             "colorbar": {
              "outlinewidth": 0,
              "ticks": ""
             }
            },
            "type": "scatterpolargl"
           }
          ],
          "scatterternary": [
           {
            "marker": {
             "colorbar": {
              "outlinewidth": 0,
              "ticks": ""
             }
            },
            "type": "scatterternary"
           }
          ],
          "surface": [
           {
            "colorbar": {
             "outlinewidth": 0,
             "ticks": ""
            },
            "colorscale": [
             [
              0,
              "#0d0887"
             ],
             [
              0.1111111111111111,
              "#46039f"
             ],
             [
              0.2222222222222222,
              "#7201a8"
             ],
             [
              0.3333333333333333,
              "#9c179e"
             ],
             [
              0.4444444444444444,
              "#bd3786"
             ],
             [
              0.5555555555555556,
              "#d8576b"
             ],
             [
              0.6666666666666666,
              "#ed7953"
             ],
             [
              0.7777777777777778,
              "#fb9f3a"
             ],
             [
              0.8888888888888888,
              "#fdca26"
             ],
             [
              1,
              "#f0f921"
             ]
            ],
            "type": "surface"
           }
          ],
          "table": [
           {
            "cells": {
             "fill": {
              "color": "#EBF0F8"
             },
             "line": {
              "color": "white"
             }
            },
            "header": {
             "fill": {
              "color": "#C8D4E3"
             },
             "line": {
              "color": "white"
             }
            },
            "type": "table"
           }
          ]
         },
         "layout": {
          "annotationdefaults": {
           "arrowcolor": "#2a3f5f",
           "arrowhead": 0,
           "arrowwidth": 1
          },
          "autotypenumbers": "strict",
          "coloraxis": {
           "colorbar": {
            "outlinewidth": 0,
            "ticks": ""
           }
          },
          "colorscale": {
           "diverging": [
            [
             0,
             "#8e0152"
            ],
            [
             0.1,
             "#c51b7d"
            ],
            [
             0.2,
             "#de77ae"
            ],
            [
             0.3,
             "#f1b6da"
            ],
            [
             0.4,
             "#fde0ef"
            ],
            [
             0.5,
             "#f7f7f7"
            ],
            [
             0.6,
             "#e6f5d0"
            ],
            [
             0.7,
             "#b8e186"
            ],
            [
             0.8,
             "#7fbc41"
            ],
            [
             0.9,
             "#4d9221"
            ],
            [
             1,
             "#276419"
            ]
           ],
           "sequential": [
            [
             0,
             "#0d0887"
            ],
            [
             0.1111111111111111,
             "#46039f"
            ],
            [
             0.2222222222222222,
             "#7201a8"
            ],
            [
             0.3333333333333333,
             "#9c179e"
            ],
            [
             0.4444444444444444,
             "#bd3786"
            ],
            [
             0.5555555555555556,
             "#d8576b"
            ],
            [
             0.6666666666666666,
             "#ed7953"
            ],
            [
             0.7777777777777778,
             "#fb9f3a"
            ],
            [
             0.8888888888888888,
             "#fdca26"
            ],
            [
             1,
             "#f0f921"
            ]
           ],
           "sequentialminus": [
            [
             0,
             "#0d0887"
            ],
            [
             0.1111111111111111,
             "#46039f"
            ],
            [
             0.2222222222222222,
             "#7201a8"
            ],
            [
             0.3333333333333333,
             "#9c179e"
            ],
            [
             0.4444444444444444,
             "#bd3786"
            ],
            [
             0.5555555555555556,
             "#d8576b"
            ],
            [
             0.6666666666666666,
             "#ed7953"
            ],
            [
             0.7777777777777778,
             "#fb9f3a"
            ],
            [
             0.8888888888888888,
             "#fdca26"
            ],
            [
             1,
             "#f0f921"
            ]
           ]
          },
          "colorway": [
           "#636efa",
           "#EF553B",
           "#00cc96",
           "#ab63fa",
           "#FFA15A",
           "#19d3f3",
           "#FF6692",
           "#B6E880",
           "#FF97FF",
           "#FECB52"
          ],
          "font": {
           "color": "#2a3f5f"
          },
          "geo": {
           "bgcolor": "white",
           "lakecolor": "white",
           "landcolor": "#E5ECF6",
           "showlakes": true,
           "showland": true,
           "subunitcolor": "white"
          },
          "hoverlabel": {
           "align": "left"
          },
          "hovermode": "closest",
          "mapbox": {
           "style": "light"
          },
          "paper_bgcolor": "white",
          "plot_bgcolor": "#E5ECF6",
          "polar": {
           "angularaxis": {
            "gridcolor": "white",
            "linecolor": "white",
            "ticks": ""
           },
           "bgcolor": "#E5ECF6",
           "radialaxis": {
            "gridcolor": "white",
            "linecolor": "white",
            "ticks": ""
           }
          },
          "scene": {
           "xaxis": {
            "backgroundcolor": "#E5ECF6",
            "gridcolor": "white",
            "gridwidth": 2,
            "linecolor": "white",
            "showbackground": true,
            "ticks": "",
            "zerolinecolor": "white"
           },
           "yaxis": {
            "backgroundcolor": "#E5ECF6",
            "gridcolor": "white",
            "gridwidth": 2,
            "linecolor": "white",
            "showbackground": true,
            "ticks": "",
            "zerolinecolor": "white"
           },
           "zaxis": {
            "backgroundcolor": "#E5ECF6",
            "gridcolor": "white",
            "gridwidth": 2,
            "linecolor": "white",
            "showbackground": true,
            "ticks": "",
            "zerolinecolor": "white"
           }
          },
          "shapedefaults": {
           "line": {
            "color": "#2a3f5f"
           }
          },
          "ternary": {
           "aaxis": {
            "gridcolor": "white",
            "linecolor": "white",
            "ticks": ""
           },
           "baxis": {
            "gridcolor": "white",
            "linecolor": "white",
            "ticks": ""
           },
           "bgcolor": "#E5ECF6",
           "caxis": {
            "gridcolor": "white",
            "linecolor": "white",
            "ticks": ""
           }
          },
          "title": {
           "x": 0.05
          },
          "xaxis": {
           "automargin": true,
           "gridcolor": "white",
           "linecolor": "white",
           "ticks": "",
           "title": {
            "standoff": 15
           },
           "zerolinecolor": "white",
           "zerolinewidth": 2
          },
          "yaxis": {
           "automargin": true,
           "gridcolor": "white",
           "linecolor": "white",
           "ticks": "",
           "title": {
            "standoff": 15
           },
           "zerolinecolor": "white",
           "zerolinewidth": 2
          }
         }
        },
        "title": {
         "font": {
          "color": "#4D5663"
         },
         "text": "ARIMA Prediction Using Single Point Approach"
        },
        "xaxis": {
         "gridcolor": "#E1E5ED",
         "showgrid": true,
         "tickfont": {
          "color": "#4D5663"
         },
         "title": {
          "font": {
           "color": "#4D5663"
          },
          "text": "Date"
         },
         "zerolinecolor": "#E1E5ED"
        },
        "yaxis": {
         "gridcolor": "#E1E5ED",
         "showgrid": true,
         "tickfont": {
          "color": "#4D5663"
         },
         "title": {
          "font": {
           "color": "#4D5663"
          },
          "text": "Count"
         },
         "zerolinecolor": "#E1E5ED"
        }
       }
      },
      "text/html": [
       "<div>                            <div id=\"e5cee82f-9fa4-4d5a-9595-9d2eb63efab9\" class=\"plotly-graph-div\" style=\"height:525px; width:100%;\"></div>            <script type=\"text/javascript\">                require([\"plotly\"], function(Plotly) {                    window.PLOTLYENV=window.PLOTLYENV || {};\n",
       "                    window.PLOTLYENV.BASE_URL='https://plot.ly';                                    if (document.getElementById(\"e5cee82f-9fa4-4d5a-9595-9d2eb63efab9\")) {                    Plotly.newPlot(                        \"e5cee82f-9fa4-4d5a-9595-9d2eb63efab9\",                        [{\"line\":{\"color\":\"rgba(255, 153, 51, 1.0)\",\"dash\":\"solid\",\"shape\":\"linear\",\"width\":1.3},\"mode\":\"lines\",\"name\":\"Training Data\",\"text\":\"\",\"x\":[\"2023-11-11\",\"2023-11-18\",\"2023-11-25\",\"2023-12-02\",\"2023-12-09\",\"2023-12-16\",\"2023-12-23\",\"2023-12-30\"],\"y\":[2695.0,3422.0,4240.0,5752.0,\"\",\"\",\"\",\"\"],\"type\":\"scatter\"},{\"line\":{\"color\":\"rgba(55, 128, 191, 1.0)\",\"dash\":\"solid\",\"shape\":\"linear\",\"width\":1.3},\"mode\":\"lines\",\"name\":\"Real Data\",\"text\":\"\",\"x\":[\"2023-11-11\",\"2023-11-18\",\"2023-11-25\",\"2023-12-02\",\"2023-12-09\",\"2023-12-16\",\"2023-12-23\",\"2023-12-30\"],\"y\":[\"\",\"\",\"\",\"\",7178.0,9886.0,15134.0,21030.0],\"type\":\"scatter\"},{\"line\":{\"color\":\"rgba(50, 171, 96, 1.0)\",\"dash\":\"solid\",\"shape\":\"linear\",\"width\":1.3},\"mode\":\"lines\",\"name\":\"ARIMA Prediction\",\"text\":\"\",\"x\":[\"2023-11-11\",\"2023-11-18\",\"2023-11-25\",\"2023-12-02\",\"2023-12-09\",\"2023-12-16\",\"2023-12-23\",\"2023-12-30\"],\"y\":[\"\",\"\",\"\",\"\",5608.736786,6442.802183,5632.571289,6089.597418],\"type\":\"scatter\"}],                        {\"legend\":{\"bgcolor\":\"#F5F6F9\",\"font\":{\"color\":\"#4D5663\"}},\"paper_bgcolor\":\"#F5F6F9\",\"plot_bgcolor\":\"#F5F6F9\",\"template\":{\"data\":{\"barpolar\":[{\"marker\":{\"line\":{\"color\":\"#E5ECF6\",\"width\":0.5},\"pattern\":{\"fillmode\":\"overlay\",\"size\":10,\"solidity\":0.2}},\"type\":\"barpolar\"}],\"bar\":[{\"error_x\":{\"color\":\"#2a3f5f\"},\"error_y\":{\"color\":\"#2a3f5f\"},\"marker\":{\"line\":{\"color\":\"#E5ECF6\",\"width\":0.5},\"pattern\":{\"fillmode\":\"overlay\",\"size\":10,\"solidity\":0.2}},\"type\":\"bar\"}],\"carpet\":[{\"aaxis\":{\"endlinecolor\":\"#2a3f5f\",\"gridcolor\":\"white\",\"linecolor\":\"white\",\"minorgridcolor\":\"white\",\"startlinecolor\":\"#2a3f5f\"},\"baxis\":{\"endlinecolor\":\"#2a3f5f\",\"gridcolor\":\"white\",\"linecolor\":\"white\",\"minorgridcolor\":\"white\",\"startlinecolor\":\"#2a3f5f\"},\"type\":\"carpet\"}],\"choropleth\":[{\"colorbar\":{\"outlinewidth\":0,\"ticks\":\"\"},\"type\":\"choropleth\"}],\"contourcarpet\":[{\"colorbar\":{\"outlinewidth\":0,\"ticks\":\"\"},\"type\":\"contourcarpet\"}],\"contour\":[{\"colorbar\":{\"outlinewidth\":0,\"ticks\":\"\"},\"colorscale\":[[0.0,\"#0d0887\"],[0.1111111111111111,\"#46039f\"],[0.2222222222222222,\"#7201a8\"],[0.3333333333333333,\"#9c179e\"],[0.4444444444444444,\"#bd3786\"],[0.5555555555555556,\"#d8576b\"],[0.6666666666666666,\"#ed7953\"],[0.7777777777777778,\"#fb9f3a\"],[0.8888888888888888,\"#fdca26\"],[1.0,\"#f0f921\"]],\"type\":\"contour\"}],\"heatmapgl\":[{\"colorbar\":{\"outlinewidth\":0,\"ticks\":\"\"},\"colorscale\":[[0.0,\"#0d0887\"],[0.1111111111111111,\"#46039f\"],[0.2222222222222222,\"#7201a8\"],[0.3333333333333333,\"#9c179e\"],[0.4444444444444444,\"#bd3786\"],[0.5555555555555556,\"#d8576b\"],[0.6666666666666666,\"#ed7953\"],[0.7777777777777778,\"#fb9f3a\"],[0.8888888888888888,\"#fdca26\"],[1.0,\"#f0f921\"]],\"type\":\"heatmapgl\"}],\"heatmap\":[{\"colorbar\":{\"outlinewidth\":0,\"ticks\":\"\"},\"colorscale\":[[0.0,\"#0d0887\"],[0.1111111111111111,\"#46039f\"],[0.2222222222222222,\"#7201a8\"],[0.3333333333333333,\"#9c179e\"],[0.4444444444444444,\"#bd3786\"],[0.5555555555555556,\"#d8576b\"],[0.6666666666666666,\"#ed7953\"],[0.7777777777777778,\"#fb9f3a\"],[0.8888888888888888,\"#fdca26\"],[1.0,\"#f0f921\"]],\"type\":\"heatmap\"}],\"histogram2dcontour\":[{\"colorbar\":{\"outlinewidth\":0,\"ticks\":\"\"},\"colorscale\":[[0.0,\"#0d0887\"],[0.1111111111111111,\"#46039f\"],[0.2222222222222222,\"#7201a8\"],[0.3333333333333333,\"#9c179e\"],[0.4444444444444444,\"#bd3786\"],[0.5555555555555556,\"#d8576b\"],[0.6666666666666666,\"#ed7953\"],[0.7777777777777778,\"#fb9f3a\"],[0.8888888888888888,\"#fdca26\"],[1.0,\"#f0f921\"]],\"type\":\"histogram2dcontour\"}],\"histogram2d\":[{\"colorbar\":{\"outlinewidth\":0,\"ticks\":\"\"},\"colorscale\":[[0.0,\"#0d0887\"],[0.1111111111111111,\"#46039f\"],[0.2222222222222222,\"#7201a8\"],[0.3333333333333333,\"#9c179e\"],[0.4444444444444444,\"#bd3786\"],[0.5555555555555556,\"#d8576b\"],[0.6666666666666666,\"#ed7953\"],[0.7777777777777778,\"#fb9f3a\"],[0.8888888888888888,\"#fdca26\"],[1.0,\"#f0f921\"]],\"type\":\"histogram2d\"}],\"histogram\":[{\"marker\":{\"pattern\":{\"fillmode\":\"overlay\",\"size\":10,\"solidity\":0.2}},\"type\":\"histogram\"}],\"mesh3d\":[{\"colorbar\":{\"outlinewidth\":0,\"ticks\":\"\"},\"type\":\"mesh3d\"}],\"parcoords\":[{\"line\":{\"colorbar\":{\"outlinewidth\":0,\"ticks\":\"\"}},\"type\":\"parcoords\"}],\"pie\":[{\"automargin\":true,\"type\":\"pie\"}],\"scatter3d\":[{\"line\":{\"colorbar\":{\"outlinewidth\":0,\"ticks\":\"\"}},\"marker\":{\"colorbar\":{\"outlinewidth\":0,\"ticks\":\"\"}},\"type\":\"scatter3d\"}],\"scattercarpet\":[{\"marker\":{\"colorbar\":{\"outlinewidth\":0,\"ticks\":\"\"}},\"type\":\"scattercarpet\"}],\"scattergeo\":[{\"marker\":{\"colorbar\":{\"outlinewidth\":0,\"ticks\":\"\"}},\"type\":\"scattergeo\"}],\"scattergl\":[{\"marker\":{\"colorbar\":{\"outlinewidth\":0,\"ticks\":\"\"}},\"type\":\"scattergl\"}],\"scattermapbox\":[{\"marker\":{\"colorbar\":{\"outlinewidth\":0,\"ticks\":\"\"}},\"type\":\"scattermapbox\"}],\"scatterpolargl\":[{\"marker\":{\"colorbar\":{\"outlinewidth\":0,\"ticks\":\"\"}},\"type\":\"scatterpolargl\"}],\"scatterpolar\":[{\"marker\":{\"colorbar\":{\"outlinewidth\":0,\"ticks\":\"\"}},\"type\":\"scatterpolar\"}],\"scatter\":[{\"fillpattern\":{\"fillmode\":\"overlay\",\"size\":10,\"solidity\":0.2},\"type\":\"scatter\"}],\"scatterternary\":[{\"marker\":{\"colorbar\":{\"outlinewidth\":0,\"ticks\":\"\"}},\"type\":\"scatterternary\"}],\"surface\":[{\"colorbar\":{\"outlinewidth\":0,\"ticks\":\"\"},\"colorscale\":[[0.0,\"#0d0887\"],[0.1111111111111111,\"#46039f\"],[0.2222222222222222,\"#7201a8\"],[0.3333333333333333,\"#9c179e\"],[0.4444444444444444,\"#bd3786\"],[0.5555555555555556,\"#d8576b\"],[0.6666666666666666,\"#ed7953\"],[0.7777777777777778,\"#fb9f3a\"],[0.8888888888888888,\"#fdca26\"],[1.0,\"#f0f921\"]],\"type\":\"surface\"}],\"table\":[{\"cells\":{\"fill\":{\"color\":\"#EBF0F8\"},\"line\":{\"color\":\"white\"}},\"header\":{\"fill\":{\"color\":\"#C8D4E3\"},\"line\":{\"color\":\"white\"}},\"type\":\"table\"}]},\"layout\":{\"annotationdefaults\":{\"arrowcolor\":\"#2a3f5f\",\"arrowhead\":0,\"arrowwidth\":1},\"autotypenumbers\":\"strict\",\"coloraxis\":{\"colorbar\":{\"outlinewidth\":0,\"ticks\":\"\"}},\"colorscale\":{\"diverging\":[[0,\"#8e0152\"],[0.1,\"#c51b7d\"],[0.2,\"#de77ae\"],[0.3,\"#f1b6da\"],[0.4,\"#fde0ef\"],[0.5,\"#f7f7f7\"],[0.6,\"#e6f5d0\"],[0.7,\"#b8e186\"],[0.8,\"#7fbc41\"],[0.9,\"#4d9221\"],[1,\"#276419\"]],\"sequential\":[[0.0,\"#0d0887\"],[0.1111111111111111,\"#46039f\"],[0.2222222222222222,\"#7201a8\"],[0.3333333333333333,\"#9c179e\"],[0.4444444444444444,\"#bd3786\"],[0.5555555555555556,\"#d8576b\"],[0.6666666666666666,\"#ed7953\"],[0.7777777777777778,\"#fb9f3a\"],[0.8888888888888888,\"#fdca26\"],[1.0,\"#f0f921\"]],\"sequentialminus\":[[0.0,\"#0d0887\"],[0.1111111111111111,\"#46039f\"],[0.2222222222222222,\"#7201a8\"],[0.3333333333333333,\"#9c179e\"],[0.4444444444444444,\"#bd3786\"],[0.5555555555555556,\"#d8576b\"],[0.6666666666666666,\"#ed7953\"],[0.7777777777777778,\"#fb9f3a\"],[0.8888888888888888,\"#fdca26\"],[1.0,\"#f0f921\"]]},\"colorway\":[\"#636efa\",\"#EF553B\",\"#00cc96\",\"#ab63fa\",\"#FFA15A\",\"#19d3f3\",\"#FF6692\",\"#B6E880\",\"#FF97FF\",\"#FECB52\"],\"font\":{\"color\":\"#2a3f5f\"},\"geo\":{\"bgcolor\":\"white\",\"lakecolor\":\"white\",\"landcolor\":\"#E5ECF6\",\"showlakes\":true,\"showland\":true,\"subunitcolor\":\"white\"},\"hoverlabel\":{\"align\":\"left\"},\"hovermode\":\"closest\",\"mapbox\":{\"style\":\"light\"},\"paper_bgcolor\":\"white\",\"plot_bgcolor\":\"#E5ECF6\",\"polar\":{\"angularaxis\":{\"gridcolor\":\"white\",\"linecolor\":\"white\",\"ticks\":\"\"},\"bgcolor\":\"#E5ECF6\",\"radialaxis\":{\"gridcolor\":\"white\",\"linecolor\":\"white\",\"ticks\":\"\"}},\"scene\":{\"xaxis\":{\"backgroundcolor\":\"#E5ECF6\",\"gridcolor\":\"white\",\"gridwidth\":2,\"linecolor\":\"white\",\"showbackground\":true,\"ticks\":\"\",\"zerolinecolor\":\"white\"},\"yaxis\":{\"backgroundcolor\":\"#E5ECF6\",\"gridcolor\":\"white\",\"gridwidth\":2,\"linecolor\":\"white\",\"showbackground\":true,\"ticks\":\"\",\"zerolinecolor\":\"white\"},\"zaxis\":{\"backgroundcolor\":\"#E5ECF6\",\"gridcolor\":\"white\",\"gridwidth\":2,\"linecolor\":\"white\",\"showbackground\":true,\"ticks\":\"\",\"zerolinecolor\":\"white\"}},\"shapedefaults\":{\"line\":{\"color\":\"#2a3f5f\"}},\"ternary\":{\"aaxis\":{\"gridcolor\":\"white\",\"linecolor\":\"white\",\"ticks\":\"\"},\"baxis\":{\"gridcolor\":\"white\",\"linecolor\":\"white\",\"ticks\":\"\"},\"bgcolor\":\"#E5ECF6\",\"caxis\":{\"gridcolor\":\"white\",\"linecolor\":\"white\",\"ticks\":\"\"}},\"title\":{\"x\":0.05},\"xaxis\":{\"automargin\":true,\"gridcolor\":\"white\",\"linecolor\":\"white\",\"ticks\":\"\",\"title\":{\"standoff\":15},\"zerolinecolor\":\"white\",\"zerolinewidth\":2},\"yaxis\":{\"automargin\":true,\"gridcolor\":\"white\",\"linecolor\":\"white\",\"ticks\":\"\",\"title\":{\"standoff\":15},\"zerolinecolor\":\"white\",\"zerolinewidth\":2}}},\"title\":{\"font\":{\"color\":\"#4D5663\"},\"text\":\"ARIMA Prediction Using Single Point Approach\"},\"xaxis\":{\"gridcolor\":\"#E1E5ED\",\"showgrid\":true,\"tickfont\":{\"color\":\"#4D5663\"},\"title\":{\"font\":{\"color\":\"#4D5663\"},\"text\":\"Date\"},\"zerolinecolor\":\"#E1E5ED\"},\"yaxis\":{\"gridcolor\":\"#E1E5ED\",\"showgrid\":true,\"tickfont\":{\"color\":\"#4D5663\"},\"title\":{\"font\":{\"color\":\"#4D5663\"},\"text\":\"Count\"},\"zerolinecolor\":\"#E1E5ED\"}},                        {\"showLink\": true, \"linkText\": \"Export to plot.ly\", \"plotlyServerURL\": \"https://plot.ly\", \"responsive\": true}                    ).then(function(){\n",
       "                            \n",
       "var gd = document.getElementById('e5cee82f-9fa4-4d5a-9595-9d2eb63efab9');\n",
       "var x = new MutationObserver(function (mutations, observer) {{\n",
       "        var display = window.getComputedStyle(gd).display;\n",
       "        if (!display || display === 'none') {{\n",
       "            console.log([gd, 'removed!']);\n",
       "            Plotly.purge(gd);\n",
       "            observer.disconnect();\n",
       "        }}\n",
       "}});\n",
       "\n",
       "// Listen for the removal of the full notebook cells\n",
       "var notebookContainer = gd.closest('#notebook-container');\n",
       "if (notebookContainer) {{\n",
       "    x.observe(notebookContainer, {childList: true});\n",
       "}}\n",
       "\n",
       "// Listen for the clearing of the current output cell\n",
       "var outputEl = gd.closest('.output');\n",
       "if (outputEl) {{\n",
       "    x.observe(outputEl, {childList: true});\n",
       "}}\n",
       "\n",
       "                        })                };                });            </script>        </div>"
      ]
     },
     "metadata": {},
     "output_type": "display_data"
    }
   ],
   "source": [
    "arima_df.iplot(yTitle = \"Count\", xTitle = \"Date\", title = \"ARIMA Prediction Using Single Point Approach\")"
   ]
  },
  {
   "cell_type": "code",
   "execution_count": null,
   "id": "258a7a2c",
   "metadata": {},
   "outputs": [],
   "source": []
  }
 ],
 "metadata": {
  "kernelspec": {
   "display_name": "Python 3 (ipykernel)",
   "language": "python",
   "name": "python3"
  },
  "language_info": {
   "codemirror_mode": {
    "name": "ipython",
    "version": 3
   },
   "file_extension": ".py",
   "mimetype": "text/x-python",
   "name": "python",
   "nbconvert_exporter": "python",
   "pygments_lexer": "ipython3",
   "version": "3.11.4"
  }
 },
 "nbformat": 4,
 "nbformat_minor": 5
}
