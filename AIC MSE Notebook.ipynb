{
 "cells": [
  {
   "cell_type": "code",
   "execution_count": 1,
   "id": "eda94908",
   "metadata": {},
   "outputs": [
    {
     "data": {
      "text/html": [
       "        <script type=\"text/javascript\">\n",
       "        window.PlotlyConfig = {MathJaxConfig: 'local'};\n",
       "        if (window.MathJax && window.MathJax.Hub && window.MathJax.Hub.Config) {window.MathJax.Hub.Config({SVG: {font: \"STIX-Web\"}});}\n",
       "        if (typeof require !== 'undefined') {\n",
       "        require.undef(\"plotly\");\n",
       "        requirejs.config({\n",
       "            paths: {\n",
       "                'plotly': ['https://cdn.plot.ly/plotly-2.12.1.min']\n",
       "            }\n",
       "        });\n",
       "        require(['plotly'], function(Plotly) {\n",
       "            window._Plotly = Plotly;\n",
       "        });\n",
       "        }\n",
       "        </script>\n",
       "        "
      ]
     },
     "metadata": {},
     "output_type": "display_data"
    }
   ],
   "source": [
    "import pandas as pd\n",
    "%matplotlib inline\n",
    "import cufflinks as cf\n",
    "from statsmodels.tsa.stattools import acf, pacf, kpss\n",
    "from statsmodels.tsa.arima.model import ARIMA\n",
    "from sklearn.metrics import mean_squared_error, mean_absolute_error, mean_absolute_percentage_error\n",
    "\n",
    "from plotly import __version__\n",
    "from plotly.offline import download_plotlyjs, init_notebook_mode, plot, iplot\n",
    "\n",
    "cf.go_offline()"
   ]
  },
  {
   "cell_type": "code",
   "execution_count": 2,
   "id": "a99ce856",
   "metadata": {},
   "outputs": [
    {
     "data": {
      "text/html": [
       "<div>\n",
       "<style scoped>\n",
       "    .dataframe tbody tr th:only-of-type {\n",
       "        vertical-align: middle;\n",
       "    }\n",
       "\n",
       "    .dataframe tbody tr th {\n",
       "        vertical-align: top;\n",
       "    }\n",
       "\n",
       "    .dataframe thead th {\n",
       "        text-align: right;\n",
       "    }\n",
       "</style>\n",
       "<table border=\"1\" class=\"dataframe\">\n",
       "  <thead>\n",
       "    <tr style=\"text-align: right;\">\n",
       "      <th></th>\n",
       "      <th>value</th>\n",
       "    </tr>\n",
       "    <tr>\n",
       "      <th>date</th>\n",
       "      <th></th>\n",
       "    </tr>\n",
       "  </thead>\n",
       "  <tbody>\n",
       "    <tr>\n",
       "      <th>2024-04-27</th>\n",
       "      <td>2337</td>\n",
       "    </tr>\n",
       "    <tr>\n",
       "      <th>2024-04-20</th>\n",
       "      <td>2860</td>\n",
       "    </tr>\n",
       "    <tr>\n",
       "      <th>2024-04-13</th>\n",
       "      <td>3957</td>\n",
       "    </tr>\n",
       "    <tr>\n",
       "      <th>2024-04-06</th>\n",
       "      <td>4951</td>\n",
       "    </tr>\n",
       "    <tr>\n",
       "      <th>2024-03-30</th>\n",
       "      <td>5445</td>\n",
       "    </tr>\n",
       "    <tr>\n",
       "      <th>...</th>\n",
       "      <td>...</td>\n",
       "    </tr>\n",
       "    <tr>\n",
       "      <th>2022-03-12</th>\n",
       "      <td>2223</td>\n",
       "    </tr>\n",
       "    <tr>\n",
       "      <th>2022-03-05</th>\n",
       "      <td>1889</td>\n",
       "    </tr>\n",
       "    <tr>\n",
       "      <th>2022-02-26</th>\n",
       "      <td>1669</td>\n",
       "    </tr>\n",
       "    <tr>\n",
       "      <th>2022-02-19</th>\n",
       "      <td>1512</td>\n",
       "    </tr>\n",
       "    <tr>\n",
       "      <th>2022-02-12</th>\n",
       "      <td>1237</td>\n",
       "    </tr>\n",
       "  </tbody>\n",
       "</table>\n",
       "<p>116 rows × 1 columns</p>\n",
       "</div>"
      ],
      "text/plain": [
       "            value\n",
       "date             \n",
       "2024-04-27   2337\n",
       "2024-04-20   2860\n",
       "2024-04-13   3957\n",
       "2024-04-06   4951\n",
       "2024-03-30   5445\n",
       "...           ...\n",
       "2022-03-12   2223\n",
       "2022-03-05   1889\n",
       "2022-02-26   1669\n",
       "2022-02-19   1512\n",
       "2022-02-12   1237\n",
       "\n",
       "[116 rows x 1 columns]"
      ]
     },
     "execution_count": 2,
     "metadata": {},
     "output_type": "execute_result"
    }
   ],
   "source": [
    "entire_df = pd.read_csv('target-hospital-admissions.csv')\n",
    "US_df = entire_df[entire_df[\"location_name\"] == \"US\"]\n",
    "US_df = US_df[['date','value']] # Since all the values are in the US, only need date and value columns\n",
    "US_df['date'] = pd.to_datetime(US_df['date']) # Ensuring that the strings in date column are DateTime objects\n",
    "US_df.set_index('date', inplace=True) # Eliminate the leading entry column by setting date as the index column\n",
    "US_df"
   ]
  },
  {
   "cell_type": "code",
   "execution_count": 3,
   "id": "9b696a93",
   "metadata": {},
   "outputs": [
    {
     "data": {
      "application/vnd.plotly.v1+json": {
       "config": {
        "linkText": "Export to plot.ly",
        "plotlyServerURL": "https://plot.ly",
        "showLink": true
       },
       "data": [
        {
         "line": {
          "color": "rgba(255, 153, 51, 1.0)",
          "dash": "solid",
          "shape": "linear",
          "width": 1.3
         },
         "mode": "lines",
         "name": "value",
         "text": "",
         "type": "scatter",
         "x": [
          "2024-04-27",
          "2024-04-20",
          "2024-04-13",
          "2024-04-06",
          "2024-03-30",
          "2024-03-23",
          "2024-03-16",
          "2024-03-09",
          "2024-03-02",
          "2024-02-24",
          "2024-02-17",
          "2024-02-10",
          "2024-02-03",
          "2024-01-27",
          "2024-01-20",
          "2024-01-13",
          "2024-01-06",
          "2023-12-30",
          "2023-12-23",
          "2023-12-16",
          "2023-12-09",
          "2023-12-02",
          "2023-11-25",
          "2023-11-18",
          "2023-11-11",
          "2023-11-04",
          "2023-10-28",
          "2023-10-21",
          "2023-10-14",
          "2023-10-07",
          "2023-09-30",
          "2023-09-23",
          "2023-09-16",
          "2023-09-09",
          "2023-09-02",
          "2023-08-26",
          "2023-08-19",
          "2023-08-12",
          "2023-08-05",
          "2023-07-29",
          "2023-07-22",
          "2023-07-15",
          "2023-07-08",
          "2023-07-01",
          "2023-06-24",
          "2023-06-17",
          "2023-06-10",
          "2023-06-03",
          "2023-05-27",
          "2023-05-20",
          "2023-05-13",
          "2023-05-06",
          "2023-04-29",
          "2023-04-22",
          "2023-04-15",
          "2023-04-08",
          "2023-04-01",
          "2023-03-25",
          "2023-03-18",
          "2023-03-11",
          "2023-03-04",
          "2023-02-25",
          "2023-02-18",
          "2023-02-11",
          "2023-02-04",
          "2023-01-28",
          "2023-01-21",
          "2023-01-14",
          "2023-01-07",
          "2022-12-31",
          "2022-12-24",
          "2022-12-17",
          "2022-12-10",
          "2022-12-03",
          "2022-11-26",
          "2022-11-19",
          "2022-11-12",
          "2022-11-05",
          "2022-10-29",
          "2022-10-22",
          "2022-10-15",
          "2022-10-08",
          "2022-10-01",
          "2022-09-24",
          "2022-09-17",
          "2022-09-10",
          "2022-09-03",
          "2022-08-27",
          "2022-08-20",
          "2022-08-13",
          "2022-08-06",
          "2022-07-30",
          "2022-07-23",
          "2022-07-16",
          "2022-07-09",
          "2022-07-02",
          "2022-06-25",
          "2022-06-18",
          "2022-06-11",
          "2022-06-04",
          "2022-05-28",
          "2022-05-21",
          "2022-05-14",
          "2022-05-07",
          "2022-04-30",
          "2022-04-23",
          "2022-04-16",
          "2022-04-09",
          "2022-04-02",
          "2022-03-26",
          "2022-03-19",
          "2022-03-12",
          "2022-03-05",
          "2022-02-26",
          "2022-02-19",
          "2022-02-12"
         ],
         "y": [
          2337,
          2860,
          3957,
          4951,
          5445,
          5911,
          7268,
          9113,
          10500,
          10454,
          10767,
          11018,
          11317,
          12448,
          12801,
          15291,
          18938,
          21030,
          15134,
          9886,
          7178,
          5752,
          4240,
          3422,
          2695,
          1974,
          1610,
          1474,
          1218,
          1116,
          1089,
          959,
          820,
          803,
          872,
          773,
          742,
          701,
          680,
          657,
          609,
          710,
          671,
          802,
          816,
          855,
          923,
          933,
          942,
          903,
          974,
          910,
          909,
          986,
          1058,
          1200,
          1276,
          1300,
          1428,
          1373,
          1496,
          1657,
          1901,
          2178,
          2410,
          3069,
          4489,
          7231,
          14101,
          19448,
          19632,
          21612,
          24098,
          26602,
          18163,
          10894,
          8521,
          6303,
          4108,
          2243,
          1618,
          1276,
          891,
          696,
          658,
          615,
          601,
          576,
          574,
          572,
          623,
          619,
          708,
          861,
          884,
          1170,
          1486,
          1890,
          2286,
          2802,
          2846,
          3219,
          3219,
          3252,
          3347,
          3588,
          3441,
          3287,
          3149,
          3061,
          2760,
          2223,
          1889,
          1669,
          1512,
          1237
         ]
        }
       ],
       "layout": {
        "legend": {
         "bgcolor": "#F5F6F9",
         "font": {
          "color": "#4D5663"
         }
        },
        "paper_bgcolor": "#F5F6F9",
        "plot_bgcolor": "#F5F6F9",
        "template": {
         "data": {
          "bar": [
           {
            "error_x": {
             "color": "#2a3f5f"
            },
            "error_y": {
             "color": "#2a3f5f"
            },
            "marker": {
             "line": {
              "color": "#E5ECF6",
              "width": 0.5
             },
             "pattern": {
              "fillmode": "overlay",
              "size": 10,
              "solidity": 0.2
             }
            },
            "type": "bar"
           }
          ],
          "barpolar": [
           {
            "marker": {
             "line": {
              "color": "#E5ECF6",
              "width": 0.5
             },
             "pattern": {
              "fillmode": "overlay",
              "size": 10,
              "solidity": 0.2
             }
            },
            "type": "barpolar"
           }
          ],
          "carpet": [
           {
            "aaxis": {
             "endlinecolor": "#2a3f5f",
             "gridcolor": "white",
             "linecolor": "white",
             "minorgridcolor": "white",
             "startlinecolor": "#2a3f5f"
            },
            "baxis": {
             "endlinecolor": "#2a3f5f",
             "gridcolor": "white",
             "linecolor": "white",
             "minorgridcolor": "white",
             "startlinecolor": "#2a3f5f"
            },
            "type": "carpet"
           }
          ],
          "choropleth": [
           {
            "colorbar": {
             "outlinewidth": 0,
             "ticks": ""
            },
            "type": "choropleth"
           }
          ],
          "contour": [
           {
            "colorbar": {
             "outlinewidth": 0,
             "ticks": ""
            },
            "colorscale": [
             [
              0,
              "#0d0887"
             ],
             [
              0.1111111111111111,
              "#46039f"
             ],
             [
              0.2222222222222222,
              "#7201a8"
             ],
             [
              0.3333333333333333,
              "#9c179e"
             ],
             [
              0.4444444444444444,
              "#bd3786"
             ],
             [
              0.5555555555555556,
              "#d8576b"
             ],
             [
              0.6666666666666666,
              "#ed7953"
             ],
             [
              0.7777777777777778,
              "#fb9f3a"
             ],
             [
              0.8888888888888888,
              "#fdca26"
             ],
             [
              1,
              "#f0f921"
             ]
            ],
            "type": "contour"
           }
          ],
          "contourcarpet": [
           {
            "colorbar": {
             "outlinewidth": 0,
             "ticks": ""
            },
            "type": "contourcarpet"
           }
          ],
          "heatmap": [
           {
            "colorbar": {
             "outlinewidth": 0,
             "ticks": ""
            },
            "colorscale": [
             [
              0,
              "#0d0887"
             ],
             [
              0.1111111111111111,
              "#46039f"
             ],
             [
              0.2222222222222222,
              "#7201a8"
             ],
             [
              0.3333333333333333,
              "#9c179e"
             ],
             [
              0.4444444444444444,
              "#bd3786"
             ],
             [
              0.5555555555555556,
              "#d8576b"
             ],
             [
              0.6666666666666666,
              "#ed7953"
             ],
             [
              0.7777777777777778,
              "#fb9f3a"
             ],
             [
              0.8888888888888888,
              "#fdca26"
             ],
             [
              1,
              "#f0f921"
             ]
            ],
            "type": "heatmap"
           }
          ],
          "heatmapgl": [
           {
            "colorbar": {
             "outlinewidth": 0,
             "ticks": ""
            },
            "colorscale": [
             [
              0,
              "#0d0887"
             ],
             [
              0.1111111111111111,
              "#46039f"
             ],
             [
              0.2222222222222222,
              "#7201a8"
             ],
             [
              0.3333333333333333,
              "#9c179e"
             ],
             [
              0.4444444444444444,
              "#bd3786"
             ],
             [
              0.5555555555555556,
              "#d8576b"
             ],
             [
              0.6666666666666666,
              "#ed7953"
             ],
             [
              0.7777777777777778,
              "#fb9f3a"
             ],
             [
              0.8888888888888888,
              "#fdca26"
             ],
             [
              1,
              "#f0f921"
             ]
            ],
            "type": "heatmapgl"
           }
          ],
          "histogram": [
           {
            "marker": {
             "pattern": {
              "fillmode": "overlay",
              "size": 10,
              "solidity": 0.2
             }
            },
            "type": "histogram"
           }
          ],
          "histogram2d": [
           {
            "colorbar": {
             "outlinewidth": 0,
             "ticks": ""
            },
            "colorscale": [
             [
              0,
              "#0d0887"
             ],
             [
              0.1111111111111111,
              "#46039f"
             ],
             [
              0.2222222222222222,
              "#7201a8"
             ],
             [
              0.3333333333333333,
              "#9c179e"
             ],
             [
              0.4444444444444444,
              "#bd3786"
             ],
             [
              0.5555555555555556,
              "#d8576b"
             ],
             [
              0.6666666666666666,
              "#ed7953"
             ],
             [
              0.7777777777777778,
              "#fb9f3a"
             ],
             [
              0.8888888888888888,
              "#fdca26"
             ],
             [
              1,
              "#f0f921"
             ]
            ],
            "type": "histogram2d"
           }
          ],
          "histogram2dcontour": [
           {
            "colorbar": {
             "outlinewidth": 0,
             "ticks": ""
            },
            "colorscale": [
             [
              0,
              "#0d0887"
             ],
             [
              0.1111111111111111,
              "#46039f"
             ],
             [
              0.2222222222222222,
              "#7201a8"
             ],
             [
              0.3333333333333333,
              "#9c179e"
             ],
             [
              0.4444444444444444,
              "#bd3786"
             ],
             [
              0.5555555555555556,
              "#d8576b"
             ],
             [
              0.6666666666666666,
              "#ed7953"
             ],
             [
              0.7777777777777778,
              "#fb9f3a"
             ],
             [
              0.8888888888888888,
              "#fdca26"
             ],
             [
              1,
              "#f0f921"
             ]
            ],
            "type": "histogram2dcontour"
           }
          ],
          "mesh3d": [
           {
            "colorbar": {
             "outlinewidth": 0,
             "ticks": ""
            },
            "type": "mesh3d"
           }
          ],
          "parcoords": [
           {
            "line": {
             "colorbar": {
              "outlinewidth": 0,
              "ticks": ""
             }
            },
            "type": "parcoords"
           }
          ],
          "pie": [
           {
            "automargin": true,
            "type": "pie"
           }
          ],
          "scatter": [
           {
            "fillpattern": {
             "fillmode": "overlay",
             "size": 10,
             "solidity": 0.2
            },
            "type": "scatter"
           }
          ],
          "scatter3d": [
           {
            "line": {
             "colorbar": {
              "outlinewidth": 0,
              "ticks": ""
             }
            },
            "marker": {
             "colorbar": {
              "outlinewidth": 0,
              "ticks": ""
             }
            },
            "type": "scatter3d"
           }
          ],
          "scattercarpet": [
           {
            "marker": {
             "colorbar": {
              "outlinewidth": 0,
              "ticks": ""
             }
            },
            "type": "scattercarpet"
           }
          ],
          "scattergeo": [
           {
            "marker": {
             "colorbar": {
              "outlinewidth": 0,
              "ticks": ""
             }
            },
            "type": "scattergeo"
           }
          ],
          "scattergl": [
           {
            "marker": {
             "colorbar": {
              "outlinewidth": 0,
              "ticks": ""
             }
            },
            "type": "scattergl"
           }
          ],
          "scattermapbox": [
           {
            "marker": {
             "colorbar": {
              "outlinewidth": 0,
              "ticks": ""
             }
            },
            "type": "scattermapbox"
           }
          ],
          "scatterpolar": [
           {
            "marker": {
             "colorbar": {
              "outlinewidth": 0,
              "ticks": ""
             }
            },
            "type": "scatterpolar"
           }
          ],
          "scatterpolargl": [
           {
            "marker": {
             "colorbar": {
              "outlinewidth": 0,
              "ticks": ""
             }
            },
            "type": "scatterpolargl"
           }
          ],
          "scatterternary": [
           {
            "marker": {
             "colorbar": {
              "outlinewidth": 0,
              "ticks": ""
             }
            },
            "type": "scatterternary"
           }
          ],
          "surface": [
           {
            "colorbar": {
             "outlinewidth": 0,
             "ticks": ""
            },
            "colorscale": [
             [
              0,
              "#0d0887"
             ],
             [
              0.1111111111111111,
              "#46039f"
             ],
             [
              0.2222222222222222,
              "#7201a8"
             ],
             [
              0.3333333333333333,
              "#9c179e"
             ],
             [
              0.4444444444444444,
              "#bd3786"
             ],
             [
              0.5555555555555556,
              "#d8576b"
             ],
             [
              0.6666666666666666,
              "#ed7953"
             ],
             [
              0.7777777777777778,
              "#fb9f3a"
             ],
             [
              0.8888888888888888,
              "#fdca26"
             ],
             [
              1,
              "#f0f921"
             ]
            ],
            "type": "surface"
           }
          ],
          "table": [
           {
            "cells": {
             "fill": {
              "color": "#EBF0F8"
             },
             "line": {
              "color": "white"
             }
            },
            "header": {
             "fill": {
              "color": "#C8D4E3"
             },
             "line": {
              "color": "white"
             }
            },
            "type": "table"
           }
          ]
         },
         "layout": {
          "annotationdefaults": {
           "arrowcolor": "#2a3f5f",
           "arrowhead": 0,
           "arrowwidth": 1
          },
          "autotypenumbers": "strict",
          "coloraxis": {
           "colorbar": {
            "outlinewidth": 0,
            "ticks": ""
           }
          },
          "colorscale": {
           "diverging": [
            [
             0,
             "#8e0152"
            ],
            [
             0.1,
             "#c51b7d"
            ],
            [
             0.2,
             "#de77ae"
            ],
            [
             0.3,
             "#f1b6da"
            ],
            [
             0.4,
             "#fde0ef"
            ],
            [
             0.5,
             "#f7f7f7"
            ],
            [
             0.6,
             "#e6f5d0"
            ],
            [
             0.7,
             "#b8e186"
            ],
            [
             0.8,
             "#7fbc41"
            ],
            [
             0.9,
             "#4d9221"
            ],
            [
             1,
             "#276419"
            ]
           ],
           "sequential": [
            [
             0,
             "#0d0887"
            ],
            [
             0.1111111111111111,
             "#46039f"
            ],
            [
             0.2222222222222222,
             "#7201a8"
            ],
            [
             0.3333333333333333,
             "#9c179e"
            ],
            [
             0.4444444444444444,
             "#bd3786"
            ],
            [
             0.5555555555555556,
             "#d8576b"
            ],
            [
             0.6666666666666666,
             "#ed7953"
            ],
            [
             0.7777777777777778,
             "#fb9f3a"
            ],
            [
             0.8888888888888888,
             "#fdca26"
            ],
            [
             1,
             "#f0f921"
            ]
           ],
           "sequentialminus": [
            [
             0,
             "#0d0887"
            ],
            [
             0.1111111111111111,
             "#46039f"
            ],
            [
             0.2222222222222222,
             "#7201a8"
            ],
            [
             0.3333333333333333,
             "#9c179e"
            ],
            [
             0.4444444444444444,
             "#bd3786"
            ],
            [
             0.5555555555555556,
             "#d8576b"
            ],
            [
             0.6666666666666666,
             "#ed7953"
            ],
            [
             0.7777777777777778,
             "#fb9f3a"
            ],
            [
             0.8888888888888888,
             "#fdca26"
            ],
            [
             1,
             "#f0f921"
            ]
           ]
          },
          "colorway": [
           "#636efa",
           "#EF553B",
           "#00cc96",
           "#ab63fa",
           "#FFA15A",
           "#19d3f3",
           "#FF6692",
           "#B6E880",
           "#FF97FF",
           "#FECB52"
          ],
          "font": {
           "color": "#2a3f5f"
          },
          "geo": {
           "bgcolor": "white",
           "lakecolor": "white",
           "landcolor": "#E5ECF6",
           "showlakes": true,
           "showland": true,
           "subunitcolor": "white"
          },
          "hoverlabel": {
           "align": "left"
          },
          "hovermode": "closest",
          "mapbox": {
           "style": "light"
          },
          "paper_bgcolor": "white",
          "plot_bgcolor": "#E5ECF6",
          "polar": {
           "angularaxis": {
            "gridcolor": "white",
            "linecolor": "white",
            "ticks": ""
           },
           "bgcolor": "#E5ECF6",
           "radialaxis": {
            "gridcolor": "white",
            "linecolor": "white",
            "ticks": ""
           }
          },
          "scene": {
           "xaxis": {
            "backgroundcolor": "#E5ECF6",
            "gridcolor": "white",
            "gridwidth": 2,
            "linecolor": "white",
            "showbackground": true,
            "ticks": "",
            "zerolinecolor": "white"
           },
           "yaxis": {
            "backgroundcolor": "#E5ECF6",
            "gridcolor": "white",
            "gridwidth": 2,
            "linecolor": "white",
            "showbackground": true,
            "ticks": "",
            "zerolinecolor": "white"
           },
           "zaxis": {
            "backgroundcolor": "#E5ECF6",
            "gridcolor": "white",
            "gridwidth": 2,
            "linecolor": "white",
            "showbackground": true,
            "ticks": "",
            "zerolinecolor": "white"
           }
          },
          "shapedefaults": {
           "line": {
            "color": "#2a3f5f"
           }
          },
          "ternary": {
           "aaxis": {
            "gridcolor": "white",
            "linecolor": "white",
            "ticks": ""
           },
           "baxis": {
            "gridcolor": "white",
            "linecolor": "white",
            "ticks": ""
           },
           "bgcolor": "#E5ECF6",
           "caxis": {
            "gridcolor": "white",
            "linecolor": "white",
            "ticks": ""
           }
          },
          "title": {
           "x": 0.05
          },
          "xaxis": {
           "automargin": true,
           "gridcolor": "white",
           "linecolor": "white",
           "ticks": "",
           "title": {
            "standoff": 15
           },
           "zerolinecolor": "white",
           "zerolinewidth": 2
          },
          "yaxis": {
           "automargin": true,
           "gridcolor": "white",
           "linecolor": "white",
           "ticks": "",
           "title": {
            "standoff": 15
           },
           "zerolinecolor": "white",
           "zerolinewidth": 2
          }
         }
        },
        "title": {
         "font": {
          "color": "#4D5663"
         },
         "text": "Count of Influenza Cases in US Over Time"
        },
        "xaxis": {
         "gridcolor": "#E1E5ED",
         "showgrid": true,
         "tickfont": {
          "color": "#4D5663"
         },
         "title": {
          "font": {
           "color": "#4D5663"
          },
          "text": "Date"
         },
         "zerolinecolor": "#E1E5ED"
        },
        "yaxis": {
         "gridcolor": "#E1E5ED",
         "showgrid": true,
         "tickfont": {
          "color": "#4D5663"
         },
         "title": {
          "font": {
           "color": "#4D5663"
          },
          "text": "Count"
         },
         "zerolinecolor": "#E1E5ED"
        }
       }
      },
      "text/html": [
       "<div>                            <div id=\"9ce6b376-c177-4c55-ad54-f268bde2d99b\" class=\"plotly-graph-div\" style=\"height:525px; width:100%;\"></div>            <script type=\"text/javascript\">                require([\"plotly\"], function(Plotly) {                    window.PLOTLYENV=window.PLOTLYENV || {};\n",
       "                    window.PLOTLYENV.BASE_URL='https://plot.ly';                                    if (document.getElementById(\"9ce6b376-c177-4c55-ad54-f268bde2d99b\")) {                    Plotly.newPlot(                        \"9ce6b376-c177-4c55-ad54-f268bde2d99b\",                        [{\"line\":{\"color\":\"rgba(255, 153, 51, 1.0)\",\"dash\":\"solid\",\"shape\":\"linear\",\"width\":1.3},\"mode\":\"lines\",\"name\":\"value\",\"text\":\"\",\"x\":[\"2024-04-27\",\"2024-04-20\",\"2024-04-13\",\"2024-04-06\",\"2024-03-30\",\"2024-03-23\",\"2024-03-16\",\"2024-03-09\",\"2024-03-02\",\"2024-02-24\",\"2024-02-17\",\"2024-02-10\",\"2024-02-03\",\"2024-01-27\",\"2024-01-20\",\"2024-01-13\",\"2024-01-06\",\"2023-12-30\",\"2023-12-23\",\"2023-12-16\",\"2023-12-09\",\"2023-12-02\",\"2023-11-25\",\"2023-11-18\",\"2023-11-11\",\"2023-11-04\",\"2023-10-28\",\"2023-10-21\",\"2023-10-14\",\"2023-10-07\",\"2023-09-30\",\"2023-09-23\",\"2023-09-16\",\"2023-09-09\",\"2023-09-02\",\"2023-08-26\",\"2023-08-19\",\"2023-08-12\",\"2023-08-05\",\"2023-07-29\",\"2023-07-22\",\"2023-07-15\",\"2023-07-08\",\"2023-07-01\",\"2023-06-24\",\"2023-06-17\",\"2023-06-10\",\"2023-06-03\",\"2023-05-27\",\"2023-05-20\",\"2023-05-13\",\"2023-05-06\",\"2023-04-29\",\"2023-04-22\",\"2023-04-15\",\"2023-04-08\",\"2023-04-01\",\"2023-03-25\",\"2023-03-18\",\"2023-03-11\",\"2023-03-04\",\"2023-02-25\",\"2023-02-18\",\"2023-02-11\",\"2023-02-04\",\"2023-01-28\",\"2023-01-21\",\"2023-01-14\",\"2023-01-07\",\"2022-12-31\",\"2022-12-24\",\"2022-12-17\",\"2022-12-10\",\"2022-12-03\",\"2022-11-26\",\"2022-11-19\",\"2022-11-12\",\"2022-11-05\",\"2022-10-29\",\"2022-10-22\",\"2022-10-15\",\"2022-10-08\",\"2022-10-01\",\"2022-09-24\",\"2022-09-17\",\"2022-09-10\",\"2022-09-03\",\"2022-08-27\",\"2022-08-20\",\"2022-08-13\",\"2022-08-06\",\"2022-07-30\",\"2022-07-23\",\"2022-07-16\",\"2022-07-09\",\"2022-07-02\",\"2022-06-25\",\"2022-06-18\",\"2022-06-11\",\"2022-06-04\",\"2022-05-28\",\"2022-05-21\",\"2022-05-14\",\"2022-05-07\",\"2022-04-30\",\"2022-04-23\",\"2022-04-16\",\"2022-04-09\",\"2022-04-02\",\"2022-03-26\",\"2022-03-19\",\"2022-03-12\",\"2022-03-05\",\"2022-02-26\",\"2022-02-19\",\"2022-02-12\"],\"y\":[2337,2860,3957,4951,5445,5911,7268,9113,10500,10454,10767,11018,11317,12448,12801,15291,18938,21030,15134,9886,7178,5752,4240,3422,2695,1974,1610,1474,1218,1116,1089,959,820,803,872,773,742,701,680,657,609,710,671,802,816,855,923,933,942,903,974,910,909,986,1058,1200,1276,1300,1428,1373,1496,1657,1901,2178,2410,3069,4489,7231,14101,19448,19632,21612,24098,26602,18163,10894,8521,6303,4108,2243,1618,1276,891,696,658,615,601,576,574,572,623,619,708,861,884,1170,1486,1890,2286,2802,2846,3219,3219,3252,3347,3588,3441,3287,3149,3061,2760,2223,1889,1669,1512,1237],\"type\":\"scatter\"}],                        {\"legend\":{\"bgcolor\":\"#F5F6F9\",\"font\":{\"color\":\"#4D5663\"}},\"paper_bgcolor\":\"#F5F6F9\",\"plot_bgcolor\":\"#F5F6F9\",\"template\":{\"data\":{\"barpolar\":[{\"marker\":{\"line\":{\"color\":\"#E5ECF6\",\"width\":0.5},\"pattern\":{\"fillmode\":\"overlay\",\"size\":10,\"solidity\":0.2}},\"type\":\"barpolar\"}],\"bar\":[{\"error_x\":{\"color\":\"#2a3f5f\"},\"error_y\":{\"color\":\"#2a3f5f\"},\"marker\":{\"line\":{\"color\":\"#E5ECF6\",\"width\":0.5},\"pattern\":{\"fillmode\":\"overlay\",\"size\":10,\"solidity\":0.2}},\"type\":\"bar\"}],\"carpet\":[{\"aaxis\":{\"endlinecolor\":\"#2a3f5f\",\"gridcolor\":\"white\",\"linecolor\":\"white\",\"minorgridcolor\":\"white\",\"startlinecolor\":\"#2a3f5f\"},\"baxis\":{\"endlinecolor\":\"#2a3f5f\",\"gridcolor\":\"white\",\"linecolor\":\"white\",\"minorgridcolor\":\"white\",\"startlinecolor\":\"#2a3f5f\"},\"type\":\"carpet\"}],\"choropleth\":[{\"colorbar\":{\"outlinewidth\":0,\"ticks\":\"\"},\"type\":\"choropleth\"}],\"contourcarpet\":[{\"colorbar\":{\"outlinewidth\":0,\"ticks\":\"\"},\"type\":\"contourcarpet\"}],\"contour\":[{\"colorbar\":{\"outlinewidth\":0,\"ticks\":\"\"},\"colorscale\":[[0.0,\"#0d0887\"],[0.1111111111111111,\"#46039f\"],[0.2222222222222222,\"#7201a8\"],[0.3333333333333333,\"#9c179e\"],[0.4444444444444444,\"#bd3786\"],[0.5555555555555556,\"#d8576b\"],[0.6666666666666666,\"#ed7953\"],[0.7777777777777778,\"#fb9f3a\"],[0.8888888888888888,\"#fdca26\"],[1.0,\"#f0f921\"]],\"type\":\"contour\"}],\"heatmapgl\":[{\"colorbar\":{\"outlinewidth\":0,\"ticks\":\"\"},\"colorscale\":[[0.0,\"#0d0887\"],[0.1111111111111111,\"#46039f\"],[0.2222222222222222,\"#7201a8\"],[0.3333333333333333,\"#9c179e\"],[0.4444444444444444,\"#bd3786\"],[0.5555555555555556,\"#d8576b\"],[0.6666666666666666,\"#ed7953\"],[0.7777777777777778,\"#fb9f3a\"],[0.8888888888888888,\"#fdca26\"],[1.0,\"#f0f921\"]],\"type\":\"heatmapgl\"}],\"heatmap\":[{\"colorbar\":{\"outlinewidth\":0,\"ticks\":\"\"},\"colorscale\":[[0.0,\"#0d0887\"],[0.1111111111111111,\"#46039f\"],[0.2222222222222222,\"#7201a8\"],[0.3333333333333333,\"#9c179e\"],[0.4444444444444444,\"#bd3786\"],[0.5555555555555556,\"#d8576b\"],[0.6666666666666666,\"#ed7953\"],[0.7777777777777778,\"#fb9f3a\"],[0.8888888888888888,\"#fdca26\"],[1.0,\"#f0f921\"]],\"type\":\"heatmap\"}],\"histogram2dcontour\":[{\"colorbar\":{\"outlinewidth\":0,\"ticks\":\"\"},\"colorscale\":[[0.0,\"#0d0887\"],[0.1111111111111111,\"#46039f\"],[0.2222222222222222,\"#7201a8\"],[0.3333333333333333,\"#9c179e\"],[0.4444444444444444,\"#bd3786\"],[0.5555555555555556,\"#d8576b\"],[0.6666666666666666,\"#ed7953\"],[0.7777777777777778,\"#fb9f3a\"],[0.8888888888888888,\"#fdca26\"],[1.0,\"#f0f921\"]],\"type\":\"histogram2dcontour\"}],\"histogram2d\":[{\"colorbar\":{\"outlinewidth\":0,\"ticks\":\"\"},\"colorscale\":[[0.0,\"#0d0887\"],[0.1111111111111111,\"#46039f\"],[0.2222222222222222,\"#7201a8\"],[0.3333333333333333,\"#9c179e\"],[0.4444444444444444,\"#bd3786\"],[0.5555555555555556,\"#d8576b\"],[0.6666666666666666,\"#ed7953\"],[0.7777777777777778,\"#fb9f3a\"],[0.8888888888888888,\"#fdca26\"],[1.0,\"#f0f921\"]],\"type\":\"histogram2d\"}],\"histogram\":[{\"marker\":{\"pattern\":{\"fillmode\":\"overlay\",\"size\":10,\"solidity\":0.2}},\"type\":\"histogram\"}],\"mesh3d\":[{\"colorbar\":{\"outlinewidth\":0,\"ticks\":\"\"},\"type\":\"mesh3d\"}],\"parcoords\":[{\"line\":{\"colorbar\":{\"outlinewidth\":0,\"ticks\":\"\"}},\"type\":\"parcoords\"}],\"pie\":[{\"automargin\":true,\"type\":\"pie\"}],\"scatter3d\":[{\"line\":{\"colorbar\":{\"outlinewidth\":0,\"ticks\":\"\"}},\"marker\":{\"colorbar\":{\"outlinewidth\":0,\"ticks\":\"\"}},\"type\":\"scatter3d\"}],\"scattercarpet\":[{\"marker\":{\"colorbar\":{\"outlinewidth\":0,\"ticks\":\"\"}},\"type\":\"scattercarpet\"}],\"scattergeo\":[{\"marker\":{\"colorbar\":{\"outlinewidth\":0,\"ticks\":\"\"}},\"type\":\"scattergeo\"}],\"scattergl\":[{\"marker\":{\"colorbar\":{\"outlinewidth\":0,\"ticks\":\"\"}},\"type\":\"scattergl\"}],\"scattermapbox\":[{\"marker\":{\"colorbar\":{\"outlinewidth\":0,\"ticks\":\"\"}},\"type\":\"scattermapbox\"}],\"scatterpolargl\":[{\"marker\":{\"colorbar\":{\"outlinewidth\":0,\"ticks\":\"\"}},\"type\":\"scatterpolargl\"}],\"scatterpolar\":[{\"marker\":{\"colorbar\":{\"outlinewidth\":0,\"ticks\":\"\"}},\"type\":\"scatterpolar\"}],\"scatter\":[{\"fillpattern\":{\"fillmode\":\"overlay\",\"size\":10,\"solidity\":0.2},\"type\":\"scatter\"}],\"scatterternary\":[{\"marker\":{\"colorbar\":{\"outlinewidth\":0,\"ticks\":\"\"}},\"type\":\"scatterternary\"}],\"surface\":[{\"colorbar\":{\"outlinewidth\":0,\"ticks\":\"\"},\"colorscale\":[[0.0,\"#0d0887\"],[0.1111111111111111,\"#46039f\"],[0.2222222222222222,\"#7201a8\"],[0.3333333333333333,\"#9c179e\"],[0.4444444444444444,\"#bd3786\"],[0.5555555555555556,\"#d8576b\"],[0.6666666666666666,\"#ed7953\"],[0.7777777777777778,\"#fb9f3a\"],[0.8888888888888888,\"#fdca26\"],[1.0,\"#f0f921\"]],\"type\":\"surface\"}],\"table\":[{\"cells\":{\"fill\":{\"color\":\"#EBF0F8\"},\"line\":{\"color\":\"white\"}},\"header\":{\"fill\":{\"color\":\"#C8D4E3\"},\"line\":{\"color\":\"white\"}},\"type\":\"table\"}]},\"layout\":{\"annotationdefaults\":{\"arrowcolor\":\"#2a3f5f\",\"arrowhead\":0,\"arrowwidth\":1},\"autotypenumbers\":\"strict\",\"coloraxis\":{\"colorbar\":{\"outlinewidth\":0,\"ticks\":\"\"}},\"colorscale\":{\"diverging\":[[0,\"#8e0152\"],[0.1,\"#c51b7d\"],[0.2,\"#de77ae\"],[0.3,\"#f1b6da\"],[0.4,\"#fde0ef\"],[0.5,\"#f7f7f7\"],[0.6,\"#e6f5d0\"],[0.7,\"#b8e186\"],[0.8,\"#7fbc41\"],[0.9,\"#4d9221\"],[1,\"#276419\"]],\"sequential\":[[0.0,\"#0d0887\"],[0.1111111111111111,\"#46039f\"],[0.2222222222222222,\"#7201a8\"],[0.3333333333333333,\"#9c179e\"],[0.4444444444444444,\"#bd3786\"],[0.5555555555555556,\"#d8576b\"],[0.6666666666666666,\"#ed7953\"],[0.7777777777777778,\"#fb9f3a\"],[0.8888888888888888,\"#fdca26\"],[1.0,\"#f0f921\"]],\"sequentialminus\":[[0.0,\"#0d0887\"],[0.1111111111111111,\"#46039f\"],[0.2222222222222222,\"#7201a8\"],[0.3333333333333333,\"#9c179e\"],[0.4444444444444444,\"#bd3786\"],[0.5555555555555556,\"#d8576b\"],[0.6666666666666666,\"#ed7953\"],[0.7777777777777778,\"#fb9f3a\"],[0.8888888888888888,\"#fdca26\"],[1.0,\"#f0f921\"]]},\"colorway\":[\"#636efa\",\"#EF553B\",\"#00cc96\",\"#ab63fa\",\"#FFA15A\",\"#19d3f3\",\"#FF6692\",\"#B6E880\",\"#FF97FF\",\"#FECB52\"],\"font\":{\"color\":\"#2a3f5f\"},\"geo\":{\"bgcolor\":\"white\",\"lakecolor\":\"white\",\"landcolor\":\"#E5ECF6\",\"showlakes\":true,\"showland\":true,\"subunitcolor\":\"white\"},\"hoverlabel\":{\"align\":\"left\"},\"hovermode\":\"closest\",\"mapbox\":{\"style\":\"light\"},\"paper_bgcolor\":\"white\",\"plot_bgcolor\":\"#E5ECF6\",\"polar\":{\"angularaxis\":{\"gridcolor\":\"white\",\"linecolor\":\"white\",\"ticks\":\"\"},\"bgcolor\":\"#E5ECF6\",\"radialaxis\":{\"gridcolor\":\"white\",\"linecolor\":\"white\",\"ticks\":\"\"}},\"scene\":{\"xaxis\":{\"backgroundcolor\":\"#E5ECF6\",\"gridcolor\":\"white\",\"gridwidth\":2,\"linecolor\":\"white\",\"showbackground\":true,\"ticks\":\"\",\"zerolinecolor\":\"white\"},\"yaxis\":{\"backgroundcolor\":\"#E5ECF6\",\"gridcolor\":\"white\",\"gridwidth\":2,\"linecolor\":\"white\",\"showbackground\":true,\"ticks\":\"\",\"zerolinecolor\":\"white\"},\"zaxis\":{\"backgroundcolor\":\"#E5ECF6\",\"gridcolor\":\"white\",\"gridwidth\":2,\"linecolor\":\"white\",\"showbackground\":true,\"ticks\":\"\",\"zerolinecolor\":\"white\"}},\"shapedefaults\":{\"line\":{\"color\":\"#2a3f5f\"}},\"ternary\":{\"aaxis\":{\"gridcolor\":\"white\",\"linecolor\":\"white\",\"ticks\":\"\"},\"baxis\":{\"gridcolor\":\"white\",\"linecolor\":\"white\",\"ticks\":\"\"},\"bgcolor\":\"#E5ECF6\",\"caxis\":{\"gridcolor\":\"white\",\"linecolor\":\"white\",\"ticks\":\"\"}},\"title\":{\"x\":0.05},\"xaxis\":{\"automargin\":true,\"gridcolor\":\"white\",\"linecolor\":\"white\",\"ticks\":\"\",\"title\":{\"standoff\":15},\"zerolinecolor\":\"white\",\"zerolinewidth\":2},\"yaxis\":{\"automargin\":true,\"gridcolor\":\"white\",\"linecolor\":\"white\",\"ticks\":\"\",\"title\":{\"standoff\":15},\"zerolinecolor\":\"white\",\"zerolinewidth\":2}}},\"title\":{\"font\":{\"color\":\"#4D5663\"},\"text\":\"Count of Influenza Cases in US Over Time\"},\"xaxis\":{\"gridcolor\":\"#E1E5ED\",\"showgrid\":true,\"tickfont\":{\"color\":\"#4D5663\"},\"title\":{\"font\":{\"color\":\"#4D5663\"},\"text\":\"Date\"},\"zerolinecolor\":\"#E1E5ED\"},\"yaxis\":{\"gridcolor\":\"#E1E5ED\",\"showgrid\":true,\"tickfont\":{\"color\":\"#4D5663\"},\"title\":{\"font\":{\"color\":\"#4D5663\"},\"text\":\"Count\"},\"zerolinecolor\":\"#E1E5ED\"}},                        {\"showLink\": true, \"linkText\": \"Export to plot.ly\", \"plotlyServerURL\": \"https://plot.ly\", \"responsive\": true}                    ).then(function(){\n",
       "                            \n",
       "var gd = document.getElementById('9ce6b376-c177-4c55-ad54-f268bde2d99b');\n",
       "var x = new MutationObserver(function (mutations, observer) {{\n",
       "        var display = window.getComputedStyle(gd).display;\n",
       "        if (!display || display === 'none') {{\n",
       "            console.log([gd, 'removed!']);\n",
       "            Plotly.purge(gd);\n",
       "            observer.disconnect();\n",
       "        }}\n",
       "}});\n",
       "\n",
       "// Listen for the removal of the full notebook cells\n",
       "var notebookContainer = gd.closest('#notebook-container');\n",
       "if (notebookContainer) {{\n",
       "    x.observe(notebookContainer, {childList: true});\n",
       "}}\n",
       "\n",
       "// Listen for the clearing of the current output cell\n",
       "var outputEl = gd.closest('.output');\n",
       "if (outputEl) {{\n",
       "    x.observe(outputEl, {childList: true});\n",
       "}}\n",
       "\n",
       "                        })                };                });            </script>        </div>"
      ]
     },
     "metadata": {},
     "output_type": "display_data"
    }
   ],
   "source": [
    "US_df[\"value\"].iplot(kind = 'line', xTitle = \"Date\", yTitle = \"Count\", title = \"Count of Influenza Cases in US Over Time\")"
   ]
  },
  {
   "cell_type": "code",
   "execution_count": 4,
   "id": "e1ab0106",
   "metadata": {},
   "outputs": [
    {
     "data": {
      "text/html": [
       "<div>\n",
       "<style scoped>\n",
       "    .dataframe tbody tr th:only-of-type {\n",
       "        vertical-align: middle;\n",
       "    }\n",
       "\n",
       "    .dataframe tbody tr th {\n",
       "        vertical-align: top;\n",
       "    }\n",
       "\n",
       "    .dataframe thead th {\n",
       "        text-align: right;\n",
       "    }\n",
       "</style>\n",
       "<table border=\"1\" class=\"dataframe\">\n",
       "  <thead>\n",
       "    <tr style=\"text-align: right;\">\n",
       "      <th></th>\n",
       "      <th>value</th>\n",
       "    </tr>\n",
       "    <tr>\n",
       "      <th>date</th>\n",
       "      <th></th>\n",
       "    </tr>\n",
       "  </thead>\n",
       "  <tbody>\n",
       "    <tr>\n",
       "      <th>2023-12-02</th>\n",
       "      <td>5752</td>\n",
       "    </tr>\n",
       "    <tr>\n",
       "      <th>2023-11-25</th>\n",
       "      <td>4240</td>\n",
       "    </tr>\n",
       "    <tr>\n",
       "      <th>2023-11-18</th>\n",
       "      <td>3422</td>\n",
       "    </tr>\n",
       "    <tr>\n",
       "      <th>2023-11-11</th>\n",
       "      <td>2695</td>\n",
       "    </tr>\n",
       "  </tbody>\n",
       "</table>\n",
       "</div>"
      ],
      "text/plain": [
       "            value\n",
       "date             \n",
       "2023-12-02   5752\n",
       "2023-11-25   4240\n",
       "2023-11-18   3422\n",
       "2023-11-11   2695"
      ]
     },
     "execution_count": 4,
     "metadata": {},
     "output_type": "execute_result"
    }
   ],
   "source": [
    "training_df = US_df.loc[\"2023-11-11\": \"2023-12-02\"]\n",
    "training_df"
   ]
  },
  {
   "cell_type": "code",
   "execution_count": 5,
   "id": "942a7115",
   "metadata": {},
   "outputs": [],
   "source": [
    "p_values = [1, 2, 3, 4]\n",
    "d_values = [0, 1]\n",
    "q_values = [1, 2, 3, 4]\n",
    "\n",
    "# index = [\"2023-12-09\", \"2023-12-16\", \"2023-12-23\", \"2023-12-30\"]"
   ]
  },
  {
   "cell_type": "code",
   "execution_count": 26,
   "id": "e5783948",
   "metadata": {},
   "outputs": [],
   "source": [
    "order_df = pd.DataFrame(columns=[\"AIC\", \"FIT MSE\", \"FIT MAE\", \"FIT MAPE\", \"FORECAST MSE\", \"FORECAST MAE\", \"FORECAST MAPE\"])\n",
    "\n",
    "real_forecast = US_df[\"value\"].loc[\"2023-12-09\": \"2023-12-30\"]\n",
    "\n",
    "real_training_data = training_df[\"value\"]\n",
    "\n",
    "import warnings\n",
    "warnings.filterwarnings(\"ignore\")\n",
    "\n",
    "for p in p_values:\n",
    "    for d in d_values:\n",
    "        for q in q_values:\n",
    "            index = f\"({p},{d},{q})\"\n",
    "            \n",
    "            #Creating model based on looped p, d, or q\n",
    "            model = ARIMA(training_df[\"value\"], order = (p, d, q))\n",
    "            fit = model.fit()\n",
    "            \n",
    "            #Predicting for fit MSE, MAE, MAPE\n",
    "            \n",
    "            train_pred = fit.predict(start=1, end=4, typ='levels')\n",
    "            #fit_mse = mean_squared_error(real_training_data[1:], train_pred[1:])\n",
    "            \n",
    "            #Forecasting for forecast MSE, MAE, MAPE\n",
    "            forecast = fit.forecast(steps = 4)\n",
    "            new_index = [\"2023-12-09\", \"2023-12-16\", \"2023-12-23\", \"2023-12-30\"]\n",
    "            forecast.index = new_index # Changing index and ensuring it is DateTime object\n",
    "            forecast.index = pd.to_datetime(forecast.index)\n",
    "            \n",
    "            \n",
    "            data = {\"AIC\": fit.aic, \"FORECAST MSE\": mean_squared_error(y_true = real_forecast,y_pred = forecast), \"FORECAST MAE\": mean_absolute_error(y_true=real_forecast, y_pred=forecast), \"FORECAST MAPE\": mean_absolute_percentage_error(y_true=real_forecast, y_pred=forecast),\n",
    "                   \"FIT MSE\": mean_squared_error(y_true=real_training_data[1:], y_pred=train_pred[1:]), \"FIT MAE\": mean_absolute_error(y_true=real_training_data[1:], y_pred=train_pred[1:]), \"FIT MAPE\": mean_absolute_percentage_error(y_true=real_training_data[1:], y_pred=train_pred[1:])\n",
    "                   }\n",
    "            \n",
    "            order_df.loc[index] = data"
   ]
  },
  {
   "cell_type": "code",
   "execution_count": 27,
   "id": "b8f128ee",
   "metadata": {},
   "outputs": [
    {
     "data": {
      "text/html": [
       "<div>\n",
       "<style scoped>\n",
       "    .dataframe tbody tr th:only-of-type {\n",
       "        vertical-align: middle;\n",
       "    }\n",
       "\n",
       "    .dataframe tbody tr th {\n",
       "        vertical-align: top;\n",
       "    }\n",
       "\n",
       "    .dataframe thead th {\n",
       "        text-align: right;\n",
       "    }\n",
       "</style>\n",
       "<table border=\"1\" class=\"dataframe\">\n",
       "  <thead>\n",
       "    <tr style=\"text-align: right;\">\n",
       "      <th></th>\n",
       "      <th>AIC</th>\n",
       "      <th>FIT MSE</th>\n",
       "      <th>FIT MAE</th>\n",
       "      <th>FIT MAPE</th>\n",
       "      <th>FORECAST MSE</th>\n",
       "      <th>FORECAST MAE</th>\n",
       "      <th>FORECAST MAPE</th>\n",
       "    </tr>\n",
       "  </thead>\n",
       "  <tbody>\n",
       "    <tr>\n",
       "      <th>(1,0,1)</th>\n",
       "      <td>74.545302</td>\n",
       "      <td>1.240125e+05</td>\n",
       "      <td>291.349086</td>\n",
       "      <td>0.078266</td>\n",
       "      <td>1.296316e+08</td>\n",
       "      <td>9869.355210</td>\n",
       "      <td>0.683319</td>\n",
       "    </tr>\n",
       "    <tr>\n",
       "      <th>(1,0,2)</th>\n",
       "      <td>76.536316</td>\n",
       "      <td>5.061811e+05</td>\n",
       "      <td>674.786356</td>\n",
       "      <td>0.207561</td>\n",
       "      <td>1.150663e+08</td>\n",
       "      <td>9209.842691</td>\n",
       "      <td>0.632448</td>\n",
       "    </tr>\n",
       "    <tr>\n",
       "      <th>(1,0,3)</th>\n",
       "      <td>77.193070</td>\n",
       "      <td>4.811585e+05</td>\n",
       "      <td>612.120083</td>\n",
       "      <td>0.192642</td>\n",
       "      <td>1.152449e+08</td>\n",
       "      <td>9187.257072</td>\n",
       "      <td>0.627803</td>\n",
       "    </tr>\n",
       "    <tr>\n",
       "      <th>(1,0,4)</th>\n",
       "      <td>78.924232</td>\n",
       "      <td>3.966028e+05</td>\n",
       "      <td>588.197220</td>\n",
       "      <td>0.174205</td>\n",
       "      <td>1.188086e+08</td>\n",
       "      <td>9297.745597</td>\n",
       "      <td>0.632777</td>\n",
       "    </tr>\n",
       "    <tr>\n",
       "      <th>(1,1,1)</th>\n",
       "      <td>56.446298</td>\n",
       "      <td>1.081638e+01</td>\n",
       "      <td>2.643119</td>\n",
       "      <td>0.000685</td>\n",
       "      <td>1.406649e+08</td>\n",
       "      <td>10611.257476</td>\n",
       "      <td>0.761351</td>\n",
       "    </tr>\n",
       "    <tr>\n",
       "      <th>(1,1,2)</th>\n",
       "      <td>57.660991</td>\n",
       "      <td>3.436780e+05</td>\n",
       "      <td>473.685767</td>\n",
       "      <td>0.160321</td>\n",
       "      <td>1.240776e+08</td>\n",
       "      <td>9817.244102</td>\n",
       "      <td>0.692282</td>\n",
       "    </tr>\n",
       "    <tr>\n",
       "      <th>(1,1,3)</th>\n",
       "      <td>57.958663</td>\n",
       "      <td>5.505646e+05</td>\n",
       "      <td>565.786516</td>\n",
       "      <td>0.195924</td>\n",
       "      <td>1.213447e+08</td>\n",
       "      <td>9716.556541</td>\n",
       "      <td>0.686753</td>\n",
       "    </tr>\n",
       "    <tr>\n",
       "      <th>(1,1,4)</th>\n",
       "      <td>67.963154</td>\n",
       "      <td>7.136052e+06</td>\n",
       "      <td>2193.566253</td>\n",
       "      <td>0.656863</td>\n",
       "      <td>2.344918e+08</td>\n",
       "      <td>14609.472458</td>\n",
       "      <td>1.139708</td>\n",
       "    </tr>\n",
       "    <tr>\n",
       "      <th>(2,0,1)</th>\n",
       "      <td>72.946344</td>\n",
       "      <td>5.600748e+05</td>\n",
       "      <td>604.419210</td>\n",
       "      <td>0.157226</td>\n",
       "      <td>1.236381e+08</td>\n",
       "      <td>9052.740306</td>\n",
       "      <td>0.581762</td>\n",
       "    </tr>\n",
       "    <tr>\n",
       "      <th>(2,0,2)</th>\n",
       "      <td>75.137768</td>\n",
       "      <td>8.425444e+05</td>\n",
       "      <td>857.731779</td>\n",
       "      <td>0.241024</td>\n",
       "      <td>1.126675e+08</td>\n",
       "      <td>8625.061708</td>\n",
       "      <td>0.557593</td>\n",
       "    </tr>\n",
       "    <tr>\n",
       "      <th>(2,0,3)</th>\n",
       "      <td>76.537069</td>\n",
       "      <td>9.555973e+05</td>\n",
       "      <td>943.291970</td>\n",
       "      <td>0.273464</td>\n",
       "      <td>1.085370e+08</td>\n",
       "      <td>8502.084057</td>\n",
       "      <td>0.553788</td>\n",
       "    </tr>\n",
       "    <tr>\n",
       "      <th>(2,0,4)</th>\n",
       "      <td>78.021334</td>\n",
       "      <td>9.979668e+05</td>\n",
       "      <td>970.173566</td>\n",
       "      <td>0.284323</td>\n",
       "      <td>1.072555e+08</td>\n",
       "      <td>8435.353057</td>\n",
       "      <td>0.548117</td>\n",
       "    </tr>\n",
       "    <tr>\n",
       "      <th>(2,1,1)</th>\n",
       "      <td>58.564878</td>\n",
       "      <td>3.733725e+04</td>\n",
       "      <td>170.931246</td>\n",
       "      <td>0.046604</td>\n",
       "      <td>1.397004e+08</td>\n",
       "      <td>10584.793244</td>\n",
       "      <td>0.760305</td>\n",
       "    </tr>\n",
       "    <tr>\n",
       "      <th>(2,1,2)</th>\n",
       "      <td>61.358088</td>\n",
       "      <td>4.183607e+04</td>\n",
       "      <td>197.564219</td>\n",
       "      <td>0.061703</td>\n",
       "      <td>1.355183e+08</td>\n",
       "      <td>10380.201134</td>\n",
       "      <td>0.742248</td>\n",
       "    </tr>\n",
       "    <tr>\n",
       "      <th>(2,1,3)</th>\n",
       "      <td>71.666651</td>\n",
       "      <td>4.174044e+05</td>\n",
       "      <td>531.549928</td>\n",
       "      <td>0.158717</td>\n",
       "      <td>1.422847e+08</td>\n",
       "      <td>10840.030255</td>\n",
       "      <td>0.792965</td>\n",
       "    </tr>\n",
       "    <tr>\n",
       "      <th>(2,1,4)</th>\n",
       "      <td>62.019842</td>\n",
       "      <td>4.377810e+05</td>\n",
       "      <td>539.325112</td>\n",
       "      <td>0.181841</td>\n",
       "      <td>1.227419e+08</td>\n",
       "      <td>9768.188175</td>\n",
       "      <td>0.689748</td>\n",
       "    </tr>\n",
       "    <tr>\n",
       "      <th>(3,0,1)</th>\n",
       "      <td>67.549985</td>\n",
       "      <td>1.540156e+06</td>\n",
       "      <td>1167.861332</td>\n",
       "      <td>0.367233</td>\n",
       "      <td>1.021226e+08</td>\n",
       "      <td>8654.785183</td>\n",
       "      <td>0.599169</td>\n",
       "    </tr>\n",
       "    <tr>\n",
       "      <th>(3,0,2)</th>\n",
       "      <td>71.588911</td>\n",
       "      <td>1.487715e+06</td>\n",
       "      <td>1177.962153</td>\n",
       "      <td>0.356457</td>\n",
       "      <td>1.031569e+08</td>\n",
       "      <td>8468.672802</td>\n",
       "      <td>0.567481</td>\n",
       "    </tr>\n",
       "    <tr>\n",
       "      <th>(3,0,3)</th>\n",
       "      <td>79.158450</td>\n",
       "      <td>8.156369e+05</td>\n",
       "      <td>839.361244</td>\n",
       "      <td>0.234416</td>\n",
       "      <td>1.137656e+08</td>\n",
       "      <td>8646.004670</td>\n",
       "      <td>0.556746</td>\n",
       "    </tr>\n",
       "    <tr>\n",
       "      <th>(3,0,4)</th>\n",
       "      <td>80.886590</td>\n",
       "      <td>9.487705e+05</td>\n",
       "      <td>936.060897</td>\n",
       "      <td>0.273063</td>\n",
       "      <td>1.080312e+08</td>\n",
       "      <td>8518.745772</td>\n",
       "      <td>0.557657</td>\n",
       "    </tr>\n",
       "    <tr>\n",
       "      <th>(3,1,1)</th>\n",
       "      <td>56.168810</td>\n",
       "      <td>2.914866e+06</td>\n",
       "      <td>1300.956533</td>\n",
       "      <td>0.446165</td>\n",
       "      <td>1.044017e+08</td>\n",
       "      <td>9282.260847</td>\n",
       "      <td>0.678229</td>\n",
       "    </tr>\n",
       "    <tr>\n",
       "      <th>(3,1,2)</th>\n",
       "      <td>58.132086</td>\n",
       "      <td>2.960015e+06</td>\n",
       "      <td>1309.742513</td>\n",
       "      <td>0.449401</td>\n",
       "      <td>1.042240e+08</td>\n",
       "      <td>9281.967238</td>\n",
       "      <td>0.678868</td>\n",
       "    </tr>\n",
       "    <tr>\n",
       "      <th>(3,1,3)</th>\n",
       "      <td>60.130842</td>\n",
       "      <td>2.961131e+06</td>\n",
       "      <td>1315.990709</td>\n",
       "      <td>0.450678</td>\n",
       "      <td>1.041974e+08</td>\n",
       "      <td>9283.000241</td>\n",
       "      <td>0.678874</td>\n",
       "    </tr>\n",
       "    <tr>\n",
       "      <th>(3,1,4)</th>\n",
       "      <td>62.156282</td>\n",
       "      <td>2.944664e+06</td>\n",
       "      <td>1306.819755</td>\n",
       "      <td>0.448322</td>\n",
       "      <td>1.045323e+08</td>\n",
       "      <td>9301.625762</td>\n",
       "      <td>0.680816</td>\n",
       "    </tr>\n",
       "    <tr>\n",
       "      <th>(4,0,1)</th>\n",
       "      <td>68.079020</td>\n",
       "      <td>1.515795e+06</td>\n",
       "      <td>1179.994533</td>\n",
       "      <td>0.363355</td>\n",
       "      <td>1.024625e+08</td>\n",
       "      <td>8548.869022</td>\n",
       "      <td>0.581992</td>\n",
       "    </tr>\n",
       "    <tr>\n",
       "      <th>(4,0,2)</th>\n",
       "      <td>73.917841</td>\n",
       "      <td>1.372971e+06</td>\n",
       "      <td>1131.636855</td>\n",
       "      <td>0.346333</td>\n",
       "      <td>1.029920e+08</td>\n",
       "      <td>8471.637355</td>\n",
       "      <td>0.568490</td>\n",
       "    </tr>\n",
       "    <tr>\n",
       "      <th>(4,0,3)</th>\n",
       "      <td>76.279886</td>\n",
       "      <td>1.244537e+06</td>\n",
       "      <td>1084.374619</td>\n",
       "      <td>0.330543</td>\n",
       "      <td>1.036731e+08</td>\n",
       "      <td>8421.107878</td>\n",
       "      <td>0.558545</td>\n",
       "    </tr>\n",
       "    <tr>\n",
       "      <th>(4,0,4)</th>\n",
       "      <td>20.000000</td>\n",
       "      <td>3.226618e+08</td>\n",
       "      <td>17951.699792</td>\n",
       "      <td>5.415027</td>\n",
       "      <td>9.362458e+07</td>\n",
       "      <td>8097.033126</td>\n",
       "      <td>0.894766</td>\n",
       "    </tr>\n",
       "    <tr>\n",
       "      <th>(4,1,1)</th>\n",
       "      <td>58.143148</td>\n",
       "      <td>2.967667e+06</td>\n",
       "      <td>1321.959476</td>\n",
       "      <td>0.452276</td>\n",
       "      <td>1.042500e+08</td>\n",
       "      <td>9281.582183</td>\n",
       "      <td>0.678810</td>\n",
       "    </tr>\n",
       "    <tr>\n",
       "      <th>(4,1,2)</th>\n",
       "      <td>60.129687</td>\n",
       "      <td>2.999458e+06</td>\n",
       "      <td>1317.024777</td>\n",
       "      <td>0.451963</td>\n",
       "      <td>1.042136e+08</td>\n",
       "      <td>9281.464551</td>\n",
       "      <td>0.678735</td>\n",
       "    </tr>\n",
       "    <tr>\n",
       "      <th>(4,1,3)</th>\n",
       "      <td>62.118277</td>\n",
       "      <td>3.025760e+06</td>\n",
       "      <td>1332.416567</td>\n",
       "      <td>0.456022</td>\n",
       "      <td>1.041105e+08</td>\n",
       "      <td>9282.508943</td>\n",
       "      <td>0.679147</td>\n",
       "    </tr>\n",
       "    <tr>\n",
       "      <th>(4,1,4)</th>\n",
       "      <td>64.141783</td>\n",
       "      <td>2.970165e+06</td>\n",
       "      <td>1309.377430</td>\n",
       "      <td>0.449228</td>\n",
       "      <td>1.041822e+08</td>\n",
       "      <td>9271.954525</td>\n",
       "      <td>0.676792</td>\n",
       "    </tr>\n",
       "  </tbody>\n",
       "</table>\n",
       "</div>"
      ],
      "text/plain": [
       "               AIC       FIT MSE       FIT MAE  FIT MAPE  FORECAST MSE  \\\n",
       "(1,0,1)  74.545302  1.240125e+05    291.349086  0.078266  1.296316e+08   \n",
       "(1,0,2)  76.536316  5.061811e+05    674.786356  0.207561  1.150663e+08   \n",
       "(1,0,3)  77.193070  4.811585e+05    612.120083  0.192642  1.152449e+08   \n",
       "(1,0,4)  78.924232  3.966028e+05    588.197220  0.174205  1.188086e+08   \n",
       "(1,1,1)  56.446298  1.081638e+01      2.643119  0.000685  1.406649e+08   \n",
       "(1,1,2)  57.660991  3.436780e+05    473.685767  0.160321  1.240776e+08   \n",
       "(1,1,3)  57.958663  5.505646e+05    565.786516  0.195924  1.213447e+08   \n",
       "(1,1,4)  67.963154  7.136052e+06   2193.566253  0.656863  2.344918e+08   \n",
       "(2,0,1)  72.946344  5.600748e+05    604.419210  0.157226  1.236381e+08   \n",
       "(2,0,2)  75.137768  8.425444e+05    857.731779  0.241024  1.126675e+08   \n",
       "(2,0,3)  76.537069  9.555973e+05    943.291970  0.273464  1.085370e+08   \n",
       "(2,0,4)  78.021334  9.979668e+05    970.173566  0.284323  1.072555e+08   \n",
       "(2,1,1)  58.564878  3.733725e+04    170.931246  0.046604  1.397004e+08   \n",
       "(2,1,2)  61.358088  4.183607e+04    197.564219  0.061703  1.355183e+08   \n",
       "(2,1,3)  71.666651  4.174044e+05    531.549928  0.158717  1.422847e+08   \n",
       "(2,1,4)  62.019842  4.377810e+05    539.325112  0.181841  1.227419e+08   \n",
       "(3,0,1)  67.549985  1.540156e+06   1167.861332  0.367233  1.021226e+08   \n",
       "(3,0,2)  71.588911  1.487715e+06   1177.962153  0.356457  1.031569e+08   \n",
       "(3,0,3)  79.158450  8.156369e+05    839.361244  0.234416  1.137656e+08   \n",
       "(3,0,4)  80.886590  9.487705e+05    936.060897  0.273063  1.080312e+08   \n",
       "(3,1,1)  56.168810  2.914866e+06   1300.956533  0.446165  1.044017e+08   \n",
       "(3,1,2)  58.132086  2.960015e+06   1309.742513  0.449401  1.042240e+08   \n",
       "(3,1,3)  60.130842  2.961131e+06   1315.990709  0.450678  1.041974e+08   \n",
       "(3,1,4)  62.156282  2.944664e+06   1306.819755  0.448322  1.045323e+08   \n",
       "(4,0,1)  68.079020  1.515795e+06   1179.994533  0.363355  1.024625e+08   \n",
       "(4,0,2)  73.917841  1.372971e+06   1131.636855  0.346333  1.029920e+08   \n",
       "(4,0,3)  76.279886  1.244537e+06   1084.374619  0.330543  1.036731e+08   \n",
       "(4,0,4)  20.000000  3.226618e+08  17951.699792  5.415027  9.362458e+07   \n",
       "(4,1,1)  58.143148  2.967667e+06   1321.959476  0.452276  1.042500e+08   \n",
       "(4,1,2)  60.129687  2.999458e+06   1317.024777  0.451963  1.042136e+08   \n",
       "(4,1,3)  62.118277  3.025760e+06   1332.416567  0.456022  1.041105e+08   \n",
       "(4,1,4)  64.141783  2.970165e+06   1309.377430  0.449228  1.041822e+08   \n",
       "\n",
       "         FORECAST MAE  FORECAST MAPE  \n",
       "(1,0,1)   9869.355210       0.683319  \n",
       "(1,0,2)   9209.842691       0.632448  \n",
       "(1,0,3)   9187.257072       0.627803  \n",
       "(1,0,4)   9297.745597       0.632777  \n",
       "(1,1,1)  10611.257476       0.761351  \n",
       "(1,1,2)   9817.244102       0.692282  \n",
       "(1,1,3)   9716.556541       0.686753  \n",
       "(1,1,4)  14609.472458       1.139708  \n",
       "(2,0,1)   9052.740306       0.581762  \n",
       "(2,0,2)   8625.061708       0.557593  \n",
       "(2,0,3)   8502.084057       0.553788  \n",
       "(2,0,4)   8435.353057       0.548117  \n",
       "(2,1,1)  10584.793244       0.760305  \n",
       "(2,1,2)  10380.201134       0.742248  \n",
       "(2,1,3)  10840.030255       0.792965  \n",
       "(2,1,4)   9768.188175       0.689748  \n",
       "(3,0,1)   8654.785183       0.599169  \n",
       "(3,0,2)   8468.672802       0.567481  \n",
       "(3,0,3)   8646.004670       0.556746  \n",
       "(3,0,4)   8518.745772       0.557657  \n",
       "(3,1,1)   9282.260847       0.678229  \n",
       "(3,1,2)   9281.967238       0.678868  \n",
       "(3,1,3)   9283.000241       0.678874  \n",
       "(3,1,4)   9301.625762       0.680816  \n",
       "(4,0,1)   8548.869022       0.581992  \n",
       "(4,0,2)   8471.637355       0.568490  \n",
       "(4,0,3)   8421.107878       0.558545  \n",
       "(4,0,4)   8097.033126       0.894766  \n",
       "(4,1,1)   9281.582183       0.678810  \n",
       "(4,1,2)   9281.464551       0.678735  \n",
       "(4,1,3)   9282.508943       0.679147  \n",
       "(4,1,4)   9271.954525       0.676792  "
      ]
     },
     "execution_count": 27,
     "metadata": {},
     "output_type": "execute_result"
    }
   ],
   "source": [
    "order_df"
   ]
  },
  {
   "cell_type": "code",
   "execution_count": 31,
   "id": "9aa7825b",
   "metadata": {},
   "outputs": [],
   "source": [
    "#Prebuilt dfs to sort values\n",
    "aic_sorted_df = order_df.sort_values(by=\"AIC\")\n",
    "fit_mse_sorted_df = order_df.sort_values(by=\"FIT MSE\")\n",
    "fit_mae_sorted_df = order_df.sort_values(by=\"FIT MAE\")\n",
    "fit_mape_sorted_df = order_df.sort_values(by=\"FIT MAPE\")\n",
    "forecast_mse_sorted_df = order_df.sort_values(by=\"FORECAST MSE\")\n",
    "forecast_mae_sorted_df = order_df.sort_values(by=\"FORECAST MAE\")\n",
    "forecast_mape_sorted_df = order_df.sort_values(by=\"FORECAST MAPE\")\n"
   ]
  },
  {
   "cell_type": "code",
   "execution_count": null,
   "id": "8b9cc290",
   "metadata": {},
   "outputs": [],
   "source": []
  },
  {
   "cell_type": "code",
   "execution_count": 11,
   "id": "fa5ac5bb",
   "metadata": {},
   "outputs": [],
   "source": [
    "optimized_model = ARIMA(training_df[\"value\"], order=(4,1,3))\n",
    "optimized_fit = optimized_model.fit()\n",
    "\n",
    "forecast = optimized_fit.forecast(steps = 4)\n",
    "new_index = [\"2023-12-09\", \"2023-12-16\", \"2023-12-23\", \"2023-12-30\"]\n",
    "forecast.index = new_index # Changing index and ensuring it is DateTime object\n",
    "forecast.index = pd.to_datetime(forecast.index)"
   ]
  },
  {
   "cell_type": "code",
   "execution_count": 12,
   "id": "b2bd3ba1",
   "metadata": {},
   "outputs": [
    {
     "data": {
      "text/html": [
       "<div>\n",
       "<style scoped>\n",
       "    .dataframe tbody tr th:only-of-type {\n",
       "        vertical-align: middle;\n",
       "    }\n",
       "\n",
       "    .dataframe tbody tr th {\n",
       "        vertical-align: top;\n",
       "    }\n",
       "\n",
       "    .dataframe thead th {\n",
       "        text-align: right;\n",
       "    }\n",
       "</style>\n",
       "<table border=\"1\" class=\"dataframe\">\n",
       "  <thead>\n",
       "    <tr style=\"text-align: right;\">\n",
       "      <th></th>\n",
       "      <th>Training Data</th>\n",
       "      <th>Real Data</th>\n",
       "      <th>ARIMA Prediction</th>\n",
       "    </tr>\n",
       "  </thead>\n",
       "  <tbody>\n",
       "    <tr>\n",
       "      <th>2023-11-11</th>\n",
       "      <td>2695.0</td>\n",
       "      <td>NaN</td>\n",
       "      <td>NaN</td>\n",
       "    </tr>\n",
       "    <tr>\n",
       "      <th>2023-11-18</th>\n",
       "      <td>3422.0</td>\n",
       "      <td>NaN</td>\n",
       "      <td>NaN</td>\n",
       "    </tr>\n",
       "    <tr>\n",
       "      <th>2023-11-25</th>\n",
       "      <td>4240.0</td>\n",
       "      <td>NaN</td>\n",
       "      <td>NaN</td>\n",
       "    </tr>\n",
       "    <tr>\n",
       "      <th>2023-12-02</th>\n",
       "      <td>5752.0</td>\n",
       "      <td>NaN</td>\n",
       "      <td>NaN</td>\n",
       "    </tr>\n",
       "    <tr>\n",
       "      <th>2023-12-09</th>\n",
       "      <td>NaN</td>\n",
       "      <td>7178.0</td>\n",
       "      <td>5608.736786</td>\n",
       "    </tr>\n",
       "    <tr>\n",
       "      <th>2023-12-16</th>\n",
       "      <td>NaN</td>\n",
       "      <td>9886.0</td>\n",
       "      <td>4318.477894</td>\n",
       "    </tr>\n",
       "    <tr>\n",
       "      <th>2023-12-23</th>\n",
       "      <td>NaN</td>\n",
       "      <td>15134.0</td>\n",
       "      <td>3362.458255</td>\n",
       "    </tr>\n",
       "    <tr>\n",
       "      <th>2023-12-30</th>\n",
       "      <td>NaN</td>\n",
       "      <td>21030.0</td>\n",
       "      <td>2808.291294</td>\n",
       "    </tr>\n",
       "  </tbody>\n",
       "</table>\n",
       "</div>"
      ],
      "text/plain": [
       "            Training Data  Real Data  ARIMA Prediction\n",
       "2023-11-11         2695.0        NaN               NaN\n",
       "2023-11-18         3422.0        NaN               NaN\n",
       "2023-11-25         4240.0        NaN               NaN\n",
       "2023-12-02         5752.0        NaN               NaN\n",
       "2023-12-09            NaN     7178.0       5608.736786\n",
       "2023-12-16            NaN     9886.0       4318.477894\n",
       "2023-12-23            NaN    15134.0       3362.458255\n",
       "2023-12-30            NaN    21030.0       2808.291294"
      ]
     },
     "execution_count": 12,
     "metadata": {},
     "output_type": "execute_result"
    }
   ],
   "source": [
    "arima_df = pd.DataFrame(index = training_df.index)\n",
    "new_index = arima_df.index.append(forecast.index)\n",
    "arima_df = arima_df.reindex(new_index)\n",
    "arima_df[\"Training Data\"] = training_df.iloc[:, 0]\n",
    "\n",
    "arima_df[\"Real Data\"] = US_df.loc[forecast.index]\n",
    "arima_df[\"ARIMA Prediction\"] = forecast\n",
    "arima_df.sort_index(inplace=True)\n",
    "arima_df"
   ]
  },
  {
   "cell_type": "code",
   "execution_count": 13,
   "id": "8964bfea",
   "metadata": {},
   "outputs": [
    {
     "data": {
      "application/vnd.plotly.v1+json": {
       "config": {
        "linkText": "Export to plot.ly",
        "plotlyServerURL": "https://plot.ly",
        "showLink": true
       },
       "data": [
        {
         "line": {
          "color": "rgba(255, 153, 51, 1.0)",
          "dash": "solid",
          "shape": "linear",
          "width": 1.3
         },
         "mode": "lines",
         "name": "Training Data",
         "text": "",
         "type": "scatter",
         "x": [
          "2023-11-11",
          "2023-11-18",
          "2023-11-25",
          "2023-12-02",
          "2023-12-09",
          "2023-12-16",
          "2023-12-23",
          "2023-12-30"
         ],
         "y": [
          2695,
          3422,
          4240,
          5752,
          "",
          "",
          "",
          ""
         ]
        },
        {
         "line": {
          "color": "rgba(55, 128, 191, 1.0)",
          "dash": "solid",
          "shape": "linear",
          "width": 1.3
         },
         "mode": "lines",
         "name": "Real Data",
         "text": "",
         "type": "scatter",
         "x": [
          "2023-11-11",
          "2023-11-18",
          "2023-11-25",
          "2023-12-02",
          "2023-12-09",
          "2023-12-16",
          "2023-12-23",
          "2023-12-30"
         ],
         "y": [
          "",
          "",
          "",
          "",
          7178,
          9886,
          15134,
          21030
         ]
        },
        {
         "line": {
          "color": "rgba(50, 171, 96, 1.0)",
          "dash": "solid",
          "shape": "linear",
          "width": 1.3
         },
         "mode": "lines",
         "name": "ARIMA Prediction",
         "text": "",
         "type": "scatter",
         "x": [
          "2023-11-11",
          "2023-11-18",
          "2023-11-25",
          "2023-12-02",
          "2023-12-09",
          "2023-12-16",
          "2023-12-23",
          "2023-12-30"
         ],
         "y": [
          "",
          "",
          "",
          "",
          5608.736785727993,
          4318.477893662349,
          3362.458255140565,
          2808.2912938295176
         ]
        }
       ],
       "layout": {
        "legend": {
         "bgcolor": "#F5F6F9",
         "font": {
          "color": "#4D5663"
         }
        },
        "paper_bgcolor": "#F5F6F9",
        "plot_bgcolor": "#F5F6F9",
        "template": {
         "data": {
          "bar": [
           {
            "error_x": {
             "color": "#2a3f5f"
            },
            "error_y": {
             "color": "#2a3f5f"
            },
            "marker": {
             "line": {
              "color": "#E5ECF6",
              "width": 0.5
             },
             "pattern": {
              "fillmode": "overlay",
              "size": 10,
              "solidity": 0.2
             }
            },
            "type": "bar"
           }
          ],
          "barpolar": [
           {
            "marker": {
             "line": {
              "color": "#E5ECF6",
              "width": 0.5
             },
             "pattern": {
              "fillmode": "overlay",
              "size": 10,
              "solidity": 0.2
             }
            },
            "type": "barpolar"
           }
          ],
          "carpet": [
           {
            "aaxis": {
             "endlinecolor": "#2a3f5f",
             "gridcolor": "white",
             "linecolor": "white",
             "minorgridcolor": "white",
             "startlinecolor": "#2a3f5f"
            },
            "baxis": {
             "endlinecolor": "#2a3f5f",
             "gridcolor": "white",
             "linecolor": "white",
             "minorgridcolor": "white",
             "startlinecolor": "#2a3f5f"
            },
            "type": "carpet"
           }
          ],
          "choropleth": [
           {
            "colorbar": {
             "outlinewidth": 0,
             "ticks": ""
            },
            "type": "choropleth"
           }
          ],
          "contour": [
           {
            "colorbar": {
             "outlinewidth": 0,
             "ticks": ""
            },
            "colorscale": [
             [
              0,
              "#0d0887"
             ],
             [
              0.1111111111111111,
              "#46039f"
             ],
             [
              0.2222222222222222,
              "#7201a8"
             ],
             [
              0.3333333333333333,
              "#9c179e"
             ],
             [
              0.4444444444444444,
              "#bd3786"
             ],
             [
              0.5555555555555556,
              "#d8576b"
             ],
             [
              0.6666666666666666,
              "#ed7953"
             ],
             [
              0.7777777777777778,
              "#fb9f3a"
             ],
             [
              0.8888888888888888,
              "#fdca26"
             ],
             [
              1,
              "#f0f921"
             ]
            ],
            "type": "contour"
           }
          ],
          "contourcarpet": [
           {
            "colorbar": {
             "outlinewidth": 0,
             "ticks": ""
            },
            "type": "contourcarpet"
           }
          ],
          "heatmap": [
           {
            "colorbar": {
             "outlinewidth": 0,
             "ticks": ""
            },
            "colorscale": [
             [
              0,
              "#0d0887"
             ],
             [
              0.1111111111111111,
              "#46039f"
             ],
             [
              0.2222222222222222,
              "#7201a8"
             ],
             [
              0.3333333333333333,
              "#9c179e"
             ],
             [
              0.4444444444444444,
              "#bd3786"
             ],
             [
              0.5555555555555556,
              "#d8576b"
             ],
             [
              0.6666666666666666,
              "#ed7953"
             ],
             [
              0.7777777777777778,
              "#fb9f3a"
             ],
             [
              0.8888888888888888,
              "#fdca26"
             ],
             [
              1,
              "#f0f921"
             ]
            ],
            "type": "heatmap"
           }
          ],
          "heatmapgl": [
           {
            "colorbar": {
             "outlinewidth": 0,
             "ticks": ""
            },
            "colorscale": [
             [
              0,
              "#0d0887"
             ],
             [
              0.1111111111111111,
              "#46039f"
             ],
             [
              0.2222222222222222,
              "#7201a8"
             ],
             [
              0.3333333333333333,
              "#9c179e"
             ],
             [
              0.4444444444444444,
              "#bd3786"
             ],
             [
              0.5555555555555556,
              "#d8576b"
             ],
             [
              0.6666666666666666,
              "#ed7953"
             ],
             [
              0.7777777777777778,
              "#fb9f3a"
             ],
             [
              0.8888888888888888,
              "#fdca26"
             ],
             [
              1,
              "#f0f921"
             ]
            ],
            "type": "heatmapgl"
           }
          ],
          "histogram": [
           {
            "marker": {
             "pattern": {
              "fillmode": "overlay",
              "size": 10,
              "solidity": 0.2
             }
            },
            "type": "histogram"
           }
          ],
          "histogram2d": [
           {
            "colorbar": {
             "outlinewidth": 0,
             "ticks": ""
            },
            "colorscale": [
             [
              0,
              "#0d0887"
             ],
             [
              0.1111111111111111,
              "#46039f"
             ],
             [
              0.2222222222222222,
              "#7201a8"
             ],
             [
              0.3333333333333333,
              "#9c179e"
             ],
             [
              0.4444444444444444,
              "#bd3786"
             ],
             [
              0.5555555555555556,
              "#d8576b"
             ],
             [
              0.6666666666666666,
              "#ed7953"
             ],
             [
              0.7777777777777778,
              "#fb9f3a"
             ],
             [
              0.8888888888888888,
              "#fdca26"
             ],
             [
              1,
              "#f0f921"
             ]
            ],
            "type": "histogram2d"
           }
          ],
          "histogram2dcontour": [
           {
            "colorbar": {
             "outlinewidth": 0,
             "ticks": ""
            },
            "colorscale": [
             [
              0,
              "#0d0887"
             ],
             [
              0.1111111111111111,
              "#46039f"
             ],
             [
              0.2222222222222222,
              "#7201a8"
             ],
             [
              0.3333333333333333,
              "#9c179e"
             ],
             [
              0.4444444444444444,
              "#bd3786"
             ],
             [
              0.5555555555555556,
              "#d8576b"
             ],
             [
              0.6666666666666666,
              "#ed7953"
             ],
             [
              0.7777777777777778,
              "#fb9f3a"
             ],
             [
              0.8888888888888888,
              "#fdca26"
             ],
             [
              1,
              "#f0f921"
             ]
            ],
            "type": "histogram2dcontour"
           }
          ],
          "mesh3d": [
           {
            "colorbar": {
             "outlinewidth": 0,
             "ticks": ""
            },
            "type": "mesh3d"
           }
          ],
          "parcoords": [
           {
            "line": {
             "colorbar": {
              "outlinewidth": 0,
              "ticks": ""
             }
            },
            "type": "parcoords"
           }
          ],
          "pie": [
           {
            "automargin": true,
            "type": "pie"
           }
          ],
          "scatter": [
           {
            "fillpattern": {
             "fillmode": "overlay",
             "size": 10,
             "solidity": 0.2
            },
            "type": "scatter"
           }
          ],
          "scatter3d": [
           {
            "line": {
             "colorbar": {
              "outlinewidth": 0,
              "ticks": ""
             }
            },
            "marker": {
             "colorbar": {
              "outlinewidth": 0,
              "ticks": ""
             }
            },
            "type": "scatter3d"
           }
          ],
          "scattercarpet": [
           {
            "marker": {
             "colorbar": {
              "outlinewidth": 0,
              "ticks": ""
             }
            },
            "type": "scattercarpet"
           }
          ],
          "scattergeo": [
           {
            "marker": {
             "colorbar": {
              "outlinewidth": 0,
              "ticks": ""
             }
            },
            "type": "scattergeo"
           }
          ],
          "scattergl": [
           {
            "marker": {
             "colorbar": {
              "outlinewidth": 0,
              "ticks": ""
             }
            },
            "type": "scattergl"
           }
          ],
          "scattermapbox": [
           {
            "marker": {
             "colorbar": {
              "outlinewidth": 0,
              "ticks": ""
             }
            },
            "type": "scattermapbox"
           }
          ],
          "scatterpolar": [
           {
            "marker": {
             "colorbar": {
              "outlinewidth": 0,
              "ticks": ""
             }
            },
            "type": "scatterpolar"
           }
          ],
          "scatterpolargl": [
           {
            "marker": {
             "colorbar": {
              "outlinewidth": 0,
              "ticks": ""
             }
            },
            "type": "scatterpolargl"
           }
          ],
          "scatterternary": [
           {
            "marker": {
             "colorbar": {
              "outlinewidth": 0,
              "ticks": ""
             }
            },
            "type": "scatterternary"
           }
          ],
          "surface": [
           {
            "colorbar": {
             "outlinewidth": 0,
             "ticks": ""
            },
            "colorscale": [
             [
              0,
              "#0d0887"
             ],
             [
              0.1111111111111111,
              "#46039f"
             ],
             [
              0.2222222222222222,
              "#7201a8"
             ],
             [
              0.3333333333333333,
              "#9c179e"
             ],
             [
              0.4444444444444444,
              "#bd3786"
             ],
             [
              0.5555555555555556,
              "#d8576b"
             ],
             [
              0.6666666666666666,
              "#ed7953"
             ],
             [
              0.7777777777777778,
              "#fb9f3a"
             ],
             [
              0.8888888888888888,
              "#fdca26"
             ],
             [
              1,
              "#f0f921"
             ]
            ],
            "type": "surface"
           }
          ],
          "table": [
           {
            "cells": {
             "fill": {
              "color": "#EBF0F8"
             },
             "line": {
              "color": "white"
             }
            },
            "header": {
             "fill": {
              "color": "#C8D4E3"
             },
             "line": {
              "color": "white"
             }
            },
            "type": "table"
           }
          ]
         },
         "layout": {
          "annotationdefaults": {
           "arrowcolor": "#2a3f5f",
           "arrowhead": 0,
           "arrowwidth": 1
          },
          "autotypenumbers": "strict",
          "coloraxis": {
           "colorbar": {
            "outlinewidth": 0,
            "ticks": ""
           }
          },
          "colorscale": {
           "diverging": [
            [
             0,
             "#8e0152"
            ],
            [
             0.1,
             "#c51b7d"
            ],
            [
             0.2,
             "#de77ae"
            ],
            [
             0.3,
             "#f1b6da"
            ],
            [
             0.4,
             "#fde0ef"
            ],
            [
             0.5,
             "#f7f7f7"
            ],
            [
             0.6,
             "#e6f5d0"
            ],
            [
             0.7,
             "#b8e186"
            ],
            [
             0.8,
             "#7fbc41"
            ],
            [
             0.9,
             "#4d9221"
            ],
            [
             1,
             "#276419"
            ]
           ],
           "sequential": [
            [
             0,
             "#0d0887"
            ],
            [
             0.1111111111111111,
             "#46039f"
            ],
            [
             0.2222222222222222,
             "#7201a8"
            ],
            [
             0.3333333333333333,
             "#9c179e"
            ],
            [
             0.4444444444444444,
             "#bd3786"
            ],
            [
             0.5555555555555556,
             "#d8576b"
            ],
            [
             0.6666666666666666,
             "#ed7953"
            ],
            [
             0.7777777777777778,
             "#fb9f3a"
            ],
            [
             0.8888888888888888,
             "#fdca26"
            ],
            [
             1,
             "#f0f921"
            ]
           ],
           "sequentialminus": [
            [
             0,
             "#0d0887"
            ],
            [
             0.1111111111111111,
             "#46039f"
            ],
            [
             0.2222222222222222,
             "#7201a8"
            ],
            [
             0.3333333333333333,
             "#9c179e"
            ],
            [
             0.4444444444444444,
             "#bd3786"
            ],
            [
             0.5555555555555556,
             "#d8576b"
            ],
            [
             0.6666666666666666,
             "#ed7953"
            ],
            [
             0.7777777777777778,
             "#fb9f3a"
            ],
            [
             0.8888888888888888,
             "#fdca26"
            ],
            [
             1,
             "#f0f921"
            ]
           ]
          },
          "colorway": [
           "#636efa",
           "#EF553B",
           "#00cc96",
           "#ab63fa",
           "#FFA15A",
           "#19d3f3",
           "#FF6692",
           "#B6E880",
           "#FF97FF",
           "#FECB52"
          ],
          "font": {
           "color": "#2a3f5f"
          },
          "geo": {
           "bgcolor": "white",
           "lakecolor": "white",
           "landcolor": "#E5ECF6",
           "showlakes": true,
           "showland": true,
           "subunitcolor": "white"
          },
          "hoverlabel": {
           "align": "left"
          },
          "hovermode": "closest",
          "mapbox": {
           "style": "light"
          },
          "paper_bgcolor": "white",
          "plot_bgcolor": "#E5ECF6",
          "polar": {
           "angularaxis": {
            "gridcolor": "white",
            "linecolor": "white",
            "ticks": ""
           },
           "bgcolor": "#E5ECF6",
           "radialaxis": {
            "gridcolor": "white",
            "linecolor": "white",
            "ticks": ""
           }
          },
          "scene": {
           "xaxis": {
            "backgroundcolor": "#E5ECF6",
            "gridcolor": "white",
            "gridwidth": 2,
            "linecolor": "white",
            "showbackground": true,
            "ticks": "",
            "zerolinecolor": "white"
           },
           "yaxis": {
            "backgroundcolor": "#E5ECF6",
            "gridcolor": "white",
            "gridwidth": 2,
            "linecolor": "white",
            "showbackground": true,
            "ticks": "",
            "zerolinecolor": "white"
           },
           "zaxis": {
            "backgroundcolor": "#E5ECF6",
            "gridcolor": "white",
            "gridwidth": 2,
            "linecolor": "white",
            "showbackground": true,
            "ticks": "",
            "zerolinecolor": "white"
           }
          },
          "shapedefaults": {
           "line": {
            "color": "#2a3f5f"
           }
          },
          "ternary": {
           "aaxis": {
            "gridcolor": "white",
            "linecolor": "white",
            "ticks": ""
           },
           "baxis": {
            "gridcolor": "white",
            "linecolor": "white",
            "ticks": ""
           },
           "bgcolor": "#E5ECF6",
           "caxis": {
            "gridcolor": "white",
            "linecolor": "white",
            "ticks": ""
           }
          },
          "title": {
           "x": 0.05
          },
          "xaxis": {
           "automargin": true,
           "gridcolor": "white",
           "linecolor": "white",
           "ticks": "",
           "title": {
            "standoff": 15
           },
           "zerolinecolor": "white",
           "zerolinewidth": 2
          },
          "yaxis": {
           "automargin": true,
           "gridcolor": "white",
           "linecolor": "white",
           "ticks": "",
           "title": {
            "standoff": 15
           },
           "zerolinecolor": "white",
           "zerolinewidth": 2
          }
         }
        },
        "title": {
         "font": {
          "color": "#4D5663"
         }
        },
        "xaxis": {
         "gridcolor": "#E1E5ED",
         "showgrid": true,
         "tickfont": {
          "color": "#4D5663"
         },
         "title": {
          "font": {
           "color": "#4D5663"
          },
          "text": ""
         },
         "zerolinecolor": "#E1E5ED"
        },
        "yaxis": {
         "gridcolor": "#E1E5ED",
         "showgrid": true,
         "tickfont": {
          "color": "#4D5663"
         },
         "title": {
          "font": {
           "color": "#4D5663"
          },
          "text": ""
         },
         "zerolinecolor": "#E1E5ED"
        }
       }
      },
      "text/html": [
       "<div>                            <div id=\"1370a783-4be4-403a-905b-0311941880f6\" class=\"plotly-graph-div\" style=\"height:525px; width:100%;\"></div>            <script type=\"text/javascript\">                require([\"plotly\"], function(Plotly) {                    window.PLOTLYENV=window.PLOTLYENV || {};\n",
       "                    window.PLOTLYENV.BASE_URL='https://plot.ly';                                    if (document.getElementById(\"1370a783-4be4-403a-905b-0311941880f6\")) {                    Plotly.newPlot(                        \"1370a783-4be4-403a-905b-0311941880f6\",                        [{\"line\":{\"color\":\"rgba(255, 153, 51, 1.0)\",\"dash\":\"solid\",\"shape\":\"linear\",\"width\":1.3},\"mode\":\"lines\",\"name\":\"Training Data\",\"text\":\"\",\"x\":[\"2023-11-11\",\"2023-11-18\",\"2023-11-25\",\"2023-12-02\",\"2023-12-09\",\"2023-12-16\",\"2023-12-23\",\"2023-12-30\"],\"y\":[2695.0,3422.0,4240.0,5752.0,\"\",\"\",\"\",\"\"],\"type\":\"scatter\"},{\"line\":{\"color\":\"rgba(55, 128, 191, 1.0)\",\"dash\":\"solid\",\"shape\":\"linear\",\"width\":1.3},\"mode\":\"lines\",\"name\":\"Real Data\",\"text\":\"\",\"x\":[\"2023-11-11\",\"2023-11-18\",\"2023-11-25\",\"2023-12-02\",\"2023-12-09\",\"2023-12-16\",\"2023-12-23\",\"2023-12-30\"],\"y\":[\"\",\"\",\"\",\"\",7178.0,9886.0,15134.0,21030.0],\"type\":\"scatter\"},{\"line\":{\"color\":\"rgba(50, 171, 96, 1.0)\",\"dash\":\"solid\",\"shape\":\"linear\",\"width\":1.3},\"mode\":\"lines\",\"name\":\"ARIMA Prediction\",\"text\":\"\",\"x\":[\"2023-11-11\",\"2023-11-18\",\"2023-11-25\",\"2023-12-02\",\"2023-12-09\",\"2023-12-16\",\"2023-12-23\",\"2023-12-30\"],\"y\":[\"\",\"\",\"\",\"\",5608.736785727993,4318.477893662349,3362.458255140565,2808.2912938295176],\"type\":\"scatter\"}],                        {\"legend\":{\"bgcolor\":\"#F5F6F9\",\"font\":{\"color\":\"#4D5663\"}},\"paper_bgcolor\":\"#F5F6F9\",\"plot_bgcolor\":\"#F5F6F9\",\"template\":{\"data\":{\"barpolar\":[{\"marker\":{\"line\":{\"color\":\"#E5ECF6\",\"width\":0.5},\"pattern\":{\"fillmode\":\"overlay\",\"size\":10,\"solidity\":0.2}},\"type\":\"barpolar\"}],\"bar\":[{\"error_x\":{\"color\":\"#2a3f5f\"},\"error_y\":{\"color\":\"#2a3f5f\"},\"marker\":{\"line\":{\"color\":\"#E5ECF6\",\"width\":0.5},\"pattern\":{\"fillmode\":\"overlay\",\"size\":10,\"solidity\":0.2}},\"type\":\"bar\"}],\"carpet\":[{\"aaxis\":{\"endlinecolor\":\"#2a3f5f\",\"gridcolor\":\"white\",\"linecolor\":\"white\",\"minorgridcolor\":\"white\",\"startlinecolor\":\"#2a3f5f\"},\"baxis\":{\"endlinecolor\":\"#2a3f5f\",\"gridcolor\":\"white\",\"linecolor\":\"white\",\"minorgridcolor\":\"white\",\"startlinecolor\":\"#2a3f5f\"},\"type\":\"carpet\"}],\"choropleth\":[{\"colorbar\":{\"outlinewidth\":0,\"ticks\":\"\"},\"type\":\"choropleth\"}],\"contourcarpet\":[{\"colorbar\":{\"outlinewidth\":0,\"ticks\":\"\"},\"type\":\"contourcarpet\"}],\"contour\":[{\"colorbar\":{\"outlinewidth\":0,\"ticks\":\"\"},\"colorscale\":[[0.0,\"#0d0887\"],[0.1111111111111111,\"#46039f\"],[0.2222222222222222,\"#7201a8\"],[0.3333333333333333,\"#9c179e\"],[0.4444444444444444,\"#bd3786\"],[0.5555555555555556,\"#d8576b\"],[0.6666666666666666,\"#ed7953\"],[0.7777777777777778,\"#fb9f3a\"],[0.8888888888888888,\"#fdca26\"],[1.0,\"#f0f921\"]],\"type\":\"contour\"}],\"heatmapgl\":[{\"colorbar\":{\"outlinewidth\":0,\"ticks\":\"\"},\"colorscale\":[[0.0,\"#0d0887\"],[0.1111111111111111,\"#46039f\"],[0.2222222222222222,\"#7201a8\"],[0.3333333333333333,\"#9c179e\"],[0.4444444444444444,\"#bd3786\"],[0.5555555555555556,\"#d8576b\"],[0.6666666666666666,\"#ed7953\"],[0.7777777777777778,\"#fb9f3a\"],[0.8888888888888888,\"#fdca26\"],[1.0,\"#f0f921\"]],\"type\":\"heatmapgl\"}],\"heatmap\":[{\"colorbar\":{\"outlinewidth\":0,\"ticks\":\"\"},\"colorscale\":[[0.0,\"#0d0887\"],[0.1111111111111111,\"#46039f\"],[0.2222222222222222,\"#7201a8\"],[0.3333333333333333,\"#9c179e\"],[0.4444444444444444,\"#bd3786\"],[0.5555555555555556,\"#d8576b\"],[0.6666666666666666,\"#ed7953\"],[0.7777777777777778,\"#fb9f3a\"],[0.8888888888888888,\"#fdca26\"],[1.0,\"#f0f921\"]],\"type\":\"heatmap\"}],\"histogram2dcontour\":[{\"colorbar\":{\"outlinewidth\":0,\"ticks\":\"\"},\"colorscale\":[[0.0,\"#0d0887\"],[0.1111111111111111,\"#46039f\"],[0.2222222222222222,\"#7201a8\"],[0.3333333333333333,\"#9c179e\"],[0.4444444444444444,\"#bd3786\"],[0.5555555555555556,\"#d8576b\"],[0.6666666666666666,\"#ed7953\"],[0.7777777777777778,\"#fb9f3a\"],[0.8888888888888888,\"#fdca26\"],[1.0,\"#f0f921\"]],\"type\":\"histogram2dcontour\"}],\"histogram2d\":[{\"colorbar\":{\"outlinewidth\":0,\"ticks\":\"\"},\"colorscale\":[[0.0,\"#0d0887\"],[0.1111111111111111,\"#46039f\"],[0.2222222222222222,\"#7201a8\"],[0.3333333333333333,\"#9c179e\"],[0.4444444444444444,\"#bd3786\"],[0.5555555555555556,\"#d8576b\"],[0.6666666666666666,\"#ed7953\"],[0.7777777777777778,\"#fb9f3a\"],[0.8888888888888888,\"#fdca26\"],[1.0,\"#f0f921\"]],\"type\":\"histogram2d\"}],\"histogram\":[{\"marker\":{\"pattern\":{\"fillmode\":\"overlay\",\"size\":10,\"solidity\":0.2}},\"type\":\"histogram\"}],\"mesh3d\":[{\"colorbar\":{\"outlinewidth\":0,\"ticks\":\"\"},\"type\":\"mesh3d\"}],\"parcoords\":[{\"line\":{\"colorbar\":{\"outlinewidth\":0,\"ticks\":\"\"}},\"type\":\"parcoords\"}],\"pie\":[{\"automargin\":true,\"type\":\"pie\"}],\"scatter3d\":[{\"line\":{\"colorbar\":{\"outlinewidth\":0,\"ticks\":\"\"}},\"marker\":{\"colorbar\":{\"outlinewidth\":0,\"ticks\":\"\"}},\"type\":\"scatter3d\"}],\"scattercarpet\":[{\"marker\":{\"colorbar\":{\"outlinewidth\":0,\"ticks\":\"\"}},\"type\":\"scattercarpet\"}],\"scattergeo\":[{\"marker\":{\"colorbar\":{\"outlinewidth\":0,\"ticks\":\"\"}},\"type\":\"scattergeo\"}],\"scattergl\":[{\"marker\":{\"colorbar\":{\"outlinewidth\":0,\"ticks\":\"\"}},\"type\":\"scattergl\"}],\"scattermapbox\":[{\"marker\":{\"colorbar\":{\"outlinewidth\":0,\"ticks\":\"\"}},\"type\":\"scattermapbox\"}],\"scatterpolargl\":[{\"marker\":{\"colorbar\":{\"outlinewidth\":0,\"ticks\":\"\"}},\"type\":\"scatterpolargl\"}],\"scatterpolar\":[{\"marker\":{\"colorbar\":{\"outlinewidth\":0,\"ticks\":\"\"}},\"type\":\"scatterpolar\"}],\"scatter\":[{\"fillpattern\":{\"fillmode\":\"overlay\",\"size\":10,\"solidity\":0.2},\"type\":\"scatter\"}],\"scatterternary\":[{\"marker\":{\"colorbar\":{\"outlinewidth\":0,\"ticks\":\"\"}},\"type\":\"scatterternary\"}],\"surface\":[{\"colorbar\":{\"outlinewidth\":0,\"ticks\":\"\"},\"colorscale\":[[0.0,\"#0d0887\"],[0.1111111111111111,\"#46039f\"],[0.2222222222222222,\"#7201a8\"],[0.3333333333333333,\"#9c179e\"],[0.4444444444444444,\"#bd3786\"],[0.5555555555555556,\"#d8576b\"],[0.6666666666666666,\"#ed7953\"],[0.7777777777777778,\"#fb9f3a\"],[0.8888888888888888,\"#fdca26\"],[1.0,\"#f0f921\"]],\"type\":\"surface\"}],\"table\":[{\"cells\":{\"fill\":{\"color\":\"#EBF0F8\"},\"line\":{\"color\":\"white\"}},\"header\":{\"fill\":{\"color\":\"#C8D4E3\"},\"line\":{\"color\":\"white\"}},\"type\":\"table\"}]},\"layout\":{\"annotationdefaults\":{\"arrowcolor\":\"#2a3f5f\",\"arrowhead\":0,\"arrowwidth\":1},\"autotypenumbers\":\"strict\",\"coloraxis\":{\"colorbar\":{\"outlinewidth\":0,\"ticks\":\"\"}},\"colorscale\":{\"diverging\":[[0,\"#8e0152\"],[0.1,\"#c51b7d\"],[0.2,\"#de77ae\"],[0.3,\"#f1b6da\"],[0.4,\"#fde0ef\"],[0.5,\"#f7f7f7\"],[0.6,\"#e6f5d0\"],[0.7,\"#b8e186\"],[0.8,\"#7fbc41\"],[0.9,\"#4d9221\"],[1,\"#276419\"]],\"sequential\":[[0.0,\"#0d0887\"],[0.1111111111111111,\"#46039f\"],[0.2222222222222222,\"#7201a8\"],[0.3333333333333333,\"#9c179e\"],[0.4444444444444444,\"#bd3786\"],[0.5555555555555556,\"#d8576b\"],[0.6666666666666666,\"#ed7953\"],[0.7777777777777778,\"#fb9f3a\"],[0.8888888888888888,\"#fdca26\"],[1.0,\"#f0f921\"]],\"sequentialminus\":[[0.0,\"#0d0887\"],[0.1111111111111111,\"#46039f\"],[0.2222222222222222,\"#7201a8\"],[0.3333333333333333,\"#9c179e\"],[0.4444444444444444,\"#bd3786\"],[0.5555555555555556,\"#d8576b\"],[0.6666666666666666,\"#ed7953\"],[0.7777777777777778,\"#fb9f3a\"],[0.8888888888888888,\"#fdca26\"],[1.0,\"#f0f921\"]]},\"colorway\":[\"#636efa\",\"#EF553B\",\"#00cc96\",\"#ab63fa\",\"#FFA15A\",\"#19d3f3\",\"#FF6692\",\"#B6E880\",\"#FF97FF\",\"#FECB52\"],\"font\":{\"color\":\"#2a3f5f\"},\"geo\":{\"bgcolor\":\"white\",\"lakecolor\":\"white\",\"landcolor\":\"#E5ECF6\",\"showlakes\":true,\"showland\":true,\"subunitcolor\":\"white\"},\"hoverlabel\":{\"align\":\"left\"},\"hovermode\":\"closest\",\"mapbox\":{\"style\":\"light\"},\"paper_bgcolor\":\"white\",\"plot_bgcolor\":\"#E5ECF6\",\"polar\":{\"angularaxis\":{\"gridcolor\":\"white\",\"linecolor\":\"white\",\"ticks\":\"\"},\"bgcolor\":\"#E5ECF6\",\"radialaxis\":{\"gridcolor\":\"white\",\"linecolor\":\"white\",\"ticks\":\"\"}},\"scene\":{\"xaxis\":{\"backgroundcolor\":\"#E5ECF6\",\"gridcolor\":\"white\",\"gridwidth\":2,\"linecolor\":\"white\",\"showbackground\":true,\"ticks\":\"\",\"zerolinecolor\":\"white\"},\"yaxis\":{\"backgroundcolor\":\"#E5ECF6\",\"gridcolor\":\"white\",\"gridwidth\":2,\"linecolor\":\"white\",\"showbackground\":true,\"ticks\":\"\",\"zerolinecolor\":\"white\"},\"zaxis\":{\"backgroundcolor\":\"#E5ECF6\",\"gridcolor\":\"white\",\"gridwidth\":2,\"linecolor\":\"white\",\"showbackground\":true,\"ticks\":\"\",\"zerolinecolor\":\"white\"}},\"shapedefaults\":{\"line\":{\"color\":\"#2a3f5f\"}},\"ternary\":{\"aaxis\":{\"gridcolor\":\"white\",\"linecolor\":\"white\",\"ticks\":\"\"},\"baxis\":{\"gridcolor\":\"white\",\"linecolor\":\"white\",\"ticks\":\"\"},\"bgcolor\":\"#E5ECF6\",\"caxis\":{\"gridcolor\":\"white\",\"linecolor\":\"white\",\"ticks\":\"\"}},\"title\":{\"x\":0.05},\"xaxis\":{\"automargin\":true,\"gridcolor\":\"white\",\"linecolor\":\"white\",\"ticks\":\"\",\"title\":{\"standoff\":15},\"zerolinecolor\":\"white\",\"zerolinewidth\":2},\"yaxis\":{\"automargin\":true,\"gridcolor\":\"white\",\"linecolor\":\"white\",\"ticks\":\"\",\"title\":{\"standoff\":15},\"zerolinecolor\":\"white\",\"zerolinewidth\":2}}},\"title\":{\"font\":{\"color\":\"#4D5663\"}},\"xaxis\":{\"gridcolor\":\"#E1E5ED\",\"showgrid\":true,\"tickfont\":{\"color\":\"#4D5663\"},\"title\":{\"font\":{\"color\":\"#4D5663\"},\"text\":\"\"},\"zerolinecolor\":\"#E1E5ED\"},\"yaxis\":{\"gridcolor\":\"#E1E5ED\",\"showgrid\":true,\"tickfont\":{\"color\":\"#4D5663\"},\"title\":{\"font\":{\"color\":\"#4D5663\"},\"text\":\"\"},\"zerolinecolor\":\"#E1E5ED\"}},                        {\"showLink\": true, \"linkText\": \"Export to plot.ly\", \"plotlyServerURL\": \"https://plot.ly\", \"responsive\": true}                    ).then(function(){\n",
       "                            \n",
       "var gd = document.getElementById('1370a783-4be4-403a-905b-0311941880f6');\n",
       "var x = new MutationObserver(function (mutations, observer) {{\n",
       "        var display = window.getComputedStyle(gd).display;\n",
       "        if (!display || display === 'none') {{\n",
       "            console.log([gd, 'removed!']);\n",
       "            Plotly.purge(gd);\n",
       "            observer.disconnect();\n",
       "        }}\n",
       "}});\n",
       "\n",
       "// Listen for the removal of the full notebook cells\n",
       "var notebookContainer = gd.closest('#notebook-container');\n",
       "if (notebookContainer) {{\n",
       "    x.observe(notebookContainer, {childList: true});\n",
       "}}\n",
       "\n",
       "// Listen for the clearing of the current output cell\n",
       "var outputEl = gd.closest('.output');\n",
       "if (outputEl) {{\n",
       "    x.observe(outputEl, {childList: true});\n",
       "}}\n",
       "\n",
       "                        })                };                });            </script>        </div>"
      ]
     },
     "metadata": {},
     "output_type": "display_data"
    }
   ],
   "source": [
    "arima_df.iplot(kind=\"scatter\")"
   ]
  },
  {
   "cell_type": "code",
   "execution_count": null,
   "id": "1028d3b5",
   "metadata": {},
   "outputs": [],
   "source": []
  },
  {
   "cell_type": "code",
   "execution_count": null,
   "id": "9a0ff90b",
   "metadata": {},
   "outputs": [],
   "source": []
  },
  {
   "cell_type": "code",
   "execution_count": null,
   "id": "bca95547",
   "metadata": {},
   "outputs": [],
   "source": []
  }
 ],
 "metadata": {
  "kernelspec": {
   "display_name": "Python 3 (ipykernel)",
   "language": "python",
   "name": "python3"
  },
  "language_info": {
   "codemirror_mode": {
    "name": "ipython",
    "version": 3
   },
   "file_extension": ".py",
   "mimetype": "text/x-python",
   "name": "python",
   "nbconvert_exporter": "python",
   "pygments_lexer": "ipython3",
   "version": "3.11.4"
  }
 },
 "nbformat": 4,
 "nbformat_minor": 5
}
